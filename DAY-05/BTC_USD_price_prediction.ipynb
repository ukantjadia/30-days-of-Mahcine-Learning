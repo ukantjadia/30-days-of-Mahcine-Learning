{
  "nbformat": 4,
  "nbformat_minor": 0,
  "metadata": {
    "colab": {
      "provenance": []
    },
    "kernelspec": {
      "name": "python3",
      "display_name": "Python 3"
    },
    "language_info": {
      "name": "python"
    }
  },
  "cells": [
    {
      "cell_type": "code",
      "execution_count": null,
      "metadata": {
        "id": "3Go4k9pckxsK"
      },
      "outputs": [],
      "source": [
        "import pandas as pd\n",
        "import numpy as np\n",
        "import matplotlib.pyplot as plt\n",
        "import seaborn as sns\n",
        "from datetime import datetime"
      ]
    },
    {
      "cell_type": "code",
      "source": [
        "BTC_USD_data ='https://raw.githubusercontent.com/ukantjadia/30-days-of-Mahcine-Learning/Main/DAY-03/BTC-USD.csv'\n",
        "df = pd.read_csv(BTC_USD_data)\n",
        "df"
      ],
      "metadata": {
        "colab": {
          "base_uri": "https://localhost:8080/",
          "height": 488
        },
        "id": "ymRYdawelgbm",
        "outputId": "d953eecd-f579-48ff-eb7b-1480166c4bca"
      },
      "execution_count": null,
      "outputs": [
        {
          "output_type": "execute_result",
          "data": {
            "text/plain": [
              "          Date          Open          High           Low         Close  \\\n",
              "0   2014-10-01    387.427002    411.697998    289.295990    338.321014   \n",
              "1   2014-11-01    338.649994    457.092987    320.626007    378.046997   \n",
              "2   2014-12-01    378.248993    384.037994    304.231995    320.192993   \n",
              "3   2015-01-01    320.434998    320.434998    171.509995    217.464005   \n",
              "4   2015-02-01    216.867004    265.610992    212.014999    254.263000   \n",
              "..         ...           ...           ...           ...           ...   \n",
              "94  2022-08-01  23336.718750  25135.589844  19600.785156  20049.763672   \n",
              "95  2022-09-01  20050.498047  22673.820313  18290.314453  19431.789063   \n",
              "96  2022-10-01  19431.105469  20988.394531  18319.822266  20495.773438   \n",
              "97  2022-11-01  20494.898438  21446.886719  15599.046875  17168.566406   \n",
              "98  2022-12-01  17168.001953  18318.531250  16398.136719  16602.585938   \n",
              "\n",
              "       Adj Close         Volume  \n",
              "0     338.321014      902994450  \n",
              "1     378.046997      659733360  \n",
              "2     320.192993      553102310  \n",
              "3     217.464005     1098811912  \n",
              "4     254.263000      711518700  \n",
              "..           ...            ...  \n",
              "94  20049.763672   894192654543  \n",
              "95  19431.789063  1123272250385  \n",
              "96  20495.773438   957903424925  \n",
              "97  17168.566406  1224531549126  \n",
              "98  16602.585938   530117529578  \n",
              "\n",
              "[99 rows x 7 columns]"
            ],
            "text/html": [
              "\n",
              "  <div id=\"df-280409b9-4b2c-45d6-b8ea-c8579ebb4ed0\">\n",
              "    <div class=\"colab-df-container\">\n",
              "      <div>\n",
              "<style scoped>\n",
              "    .dataframe tbody tr th:only-of-type {\n",
              "        vertical-align: middle;\n",
              "    }\n",
              "\n",
              "    .dataframe tbody tr th {\n",
              "        vertical-align: top;\n",
              "    }\n",
              "\n",
              "    .dataframe thead th {\n",
              "        text-align: right;\n",
              "    }\n",
              "</style>\n",
              "<table border=\"1\" class=\"dataframe\">\n",
              "  <thead>\n",
              "    <tr style=\"text-align: right;\">\n",
              "      <th></th>\n",
              "      <th>Date</th>\n",
              "      <th>Open</th>\n",
              "      <th>High</th>\n",
              "      <th>Low</th>\n",
              "      <th>Close</th>\n",
              "      <th>Adj Close</th>\n",
              "      <th>Volume</th>\n",
              "    </tr>\n",
              "  </thead>\n",
              "  <tbody>\n",
              "    <tr>\n",
              "      <th>0</th>\n",
              "      <td>2014-10-01</td>\n",
              "      <td>387.427002</td>\n",
              "      <td>411.697998</td>\n",
              "      <td>289.295990</td>\n",
              "      <td>338.321014</td>\n",
              "      <td>338.321014</td>\n",
              "      <td>902994450</td>\n",
              "    </tr>\n",
              "    <tr>\n",
              "      <th>1</th>\n",
              "      <td>2014-11-01</td>\n",
              "      <td>338.649994</td>\n",
              "      <td>457.092987</td>\n",
              "      <td>320.626007</td>\n",
              "      <td>378.046997</td>\n",
              "      <td>378.046997</td>\n",
              "      <td>659733360</td>\n",
              "    </tr>\n",
              "    <tr>\n",
              "      <th>2</th>\n",
              "      <td>2014-12-01</td>\n",
              "      <td>378.248993</td>\n",
              "      <td>384.037994</td>\n",
              "      <td>304.231995</td>\n",
              "      <td>320.192993</td>\n",
              "      <td>320.192993</td>\n",
              "      <td>553102310</td>\n",
              "    </tr>\n",
              "    <tr>\n",
              "      <th>3</th>\n",
              "      <td>2015-01-01</td>\n",
              "      <td>320.434998</td>\n",
              "      <td>320.434998</td>\n",
              "      <td>171.509995</td>\n",
              "      <td>217.464005</td>\n",
              "      <td>217.464005</td>\n",
              "      <td>1098811912</td>\n",
              "    </tr>\n",
              "    <tr>\n",
              "      <th>4</th>\n",
              "      <td>2015-02-01</td>\n",
              "      <td>216.867004</td>\n",
              "      <td>265.610992</td>\n",
              "      <td>212.014999</td>\n",
              "      <td>254.263000</td>\n",
              "      <td>254.263000</td>\n",
              "      <td>711518700</td>\n",
              "    </tr>\n",
              "    <tr>\n",
              "      <th>...</th>\n",
              "      <td>...</td>\n",
              "      <td>...</td>\n",
              "      <td>...</td>\n",
              "      <td>...</td>\n",
              "      <td>...</td>\n",
              "      <td>...</td>\n",
              "      <td>...</td>\n",
              "    </tr>\n",
              "    <tr>\n",
              "      <th>94</th>\n",
              "      <td>2022-08-01</td>\n",
              "      <td>23336.718750</td>\n",
              "      <td>25135.589844</td>\n",
              "      <td>19600.785156</td>\n",
              "      <td>20049.763672</td>\n",
              "      <td>20049.763672</td>\n",
              "      <td>894192654543</td>\n",
              "    </tr>\n",
              "    <tr>\n",
              "      <th>95</th>\n",
              "      <td>2022-09-01</td>\n",
              "      <td>20050.498047</td>\n",
              "      <td>22673.820313</td>\n",
              "      <td>18290.314453</td>\n",
              "      <td>19431.789063</td>\n",
              "      <td>19431.789063</td>\n",
              "      <td>1123272250385</td>\n",
              "    </tr>\n",
              "    <tr>\n",
              "      <th>96</th>\n",
              "      <td>2022-10-01</td>\n",
              "      <td>19431.105469</td>\n",
              "      <td>20988.394531</td>\n",
              "      <td>18319.822266</td>\n",
              "      <td>20495.773438</td>\n",
              "      <td>20495.773438</td>\n",
              "      <td>957903424925</td>\n",
              "    </tr>\n",
              "    <tr>\n",
              "      <th>97</th>\n",
              "      <td>2022-11-01</td>\n",
              "      <td>20494.898438</td>\n",
              "      <td>21446.886719</td>\n",
              "      <td>15599.046875</td>\n",
              "      <td>17168.566406</td>\n",
              "      <td>17168.566406</td>\n",
              "      <td>1224531549126</td>\n",
              "    </tr>\n",
              "    <tr>\n",
              "      <th>98</th>\n",
              "      <td>2022-12-01</td>\n",
              "      <td>17168.001953</td>\n",
              "      <td>18318.531250</td>\n",
              "      <td>16398.136719</td>\n",
              "      <td>16602.585938</td>\n",
              "      <td>16602.585938</td>\n",
              "      <td>530117529578</td>\n",
              "    </tr>\n",
              "  </tbody>\n",
              "</table>\n",
              "<p>99 rows × 7 columns</p>\n",
              "</div>\n",
              "      <button class=\"colab-df-convert\" onclick=\"convertToInteractive('df-280409b9-4b2c-45d6-b8ea-c8579ebb4ed0')\"\n",
              "              title=\"Convert this dataframe to an interactive table.\"\n",
              "              style=\"display:none;\">\n",
              "        \n",
              "  <svg xmlns=\"http://www.w3.org/2000/svg\" height=\"24px\"viewBox=\"0 0 24 24\"\n",
              "       width=\"24px\">\n",
              "    <path d=\"M0 0h24v24H0V0z\" fill=\"none\"/>\n",
              "    <path d=\"M18.56 5.44l.94 2.06.94-2.06 2.06-.94-2.06-.94-.94-2.06-.94 2.06-2.06.94zm-11 1L8.5 8.5l.94-2.06 2.06-.94-2.06-.94L8.5 2.5l-.94 2.06-2.06.94zm10 10l.94 2.06.94-2.06 2.06-.94-2.06-.94-.94-2.06-.94 2.06-2.06.94z\"/><path d=\"M17.41 7.96l-1.37-1.37c-.4-.4-.92-.59-1.43-.59-.52 0-1.04.2-1.43.59L10.3 9.45l-7.72 7.72c-.78.78-.78 2.05 0 2.83L4 21.41c.39.39.9.59 1.41.59.51 0 1.02-.2 1.41-.59l7.78-7.78 2.81-2.81c.8-.78.8-2.07 0-2.86zM5.41 20L4 18.59l7.72-7.72 1.47 1.35L5.41 20z\"/>\n",
              "  </svg>\n",
              "      </button>\n",
              "      \n",
              "  <style>\n",
              "    .colab-df-container {\n",
              "      display:flex;\n",
              "      flex-wrap:wrap;\n",
              "      gap: 12px;\n",
              "    }\n",
              "\n",
              "    .colab-df-convert {\n",
              "      background-color: #E8F0FE;\n",
              "      border: none;\n",
              "      border-radius: 50%;\n",
              "      cursor: pointer;\n",
              "      display: none;\n",
              "      fill: #1967D2;\n",
              "      height: 32px;\n",
              "      padding: 0 0 0 0;\n",
              "      width: 32px;\n",
              "    }\n",
              "\n",
              "    .colab-df-convert:hover {\n",
              "      background-color: #E2EBFA;\n",
              "      box-shadow: 0px 1px 2px rgba(60, 64, 67, 0.3), 0px 1px 3px 1px rgba(60, 64, 67, 0.15);\n",
              "      fill: #174EA6;\n",
              "    }\n",
              "\n",
              "    [theme=dark] .colab-df-convert {\n",
              "      background-color: #3B4455;\n",
              "      fill: #D2E3FC;\n",
              "    }\n",
              "\n",
              "    [theme=dark] .colab-df-convert:hover {\n",
              "      background-color: #434B5C;\n",
              "      box-shadow: 0px 1px 3px 1px rgba(0, 0, 0, 0.15);\n",
              "      filter: drop-shadow(0px 1px 2px rgba(0, 0, 0, 0.3));\n",
              "      fill: #FFFFFF;\n",
              "    }\n",
              "  </style>\n",
              "\n",
              "      <script>\n",
              "        const buttonEl =\n",
              "          document.querySelector('#df-280409b9-4b2c-45d6-b8ea-c8579ebb4ed0 button.colab-df-convert');\n",
              "        buttonEl.style.display =\n",
              "          google.colab.kernel.accessAllowed ? 'block' : 'none';\n",
              "\n",
              "        async function convertToInteractive(key) {\n",
              "          const element = document.querySelector('#df-280409b9-4b2c-45d6-b8ea-c8579ebb4ed0');\n",
              "          const dataTable =\n",
              "            await google.colab.kernel.invokeFunction('convertToInteractive',\n",
              "                                                     [key], {});\n",
              "          if (!dataTable) return;\n",
              "\n",
              "          const docLinkHtml = 'Like what you see? Visit the ' +\n",
              "            '<a target=\"_blank\" href=https://colab.research.google.com/notebooks/data_table.ipynb>data table notebook</a>'\n",
              "            + ' to learn more about interactive tables.';\n",
              "          element.innerHTML = '';\n",
              "          dataTable['output_type'] = 'display_data';\n",
              "          await google.colab.output.renderOutput(dataTable, element);\n",
              "          const docLink = document.createElement('div');\n",
              "          docLink.innerHTML = docLinkHtml;\n",
              "          element.appendChild(docLink);\n",
              "        }\n",
              "      </script>\n",
              "    </div>\n",
              "  </div>\n",
              "  "
            ]
          },
          "metadata": {},
          "execution_count": 2
        }
      ]
    },
    {
      "cell_type": "code",
      "source": [
        "# Like Matplotlib, Plotly also provides various low-level, high-level, helpers interfaces to create, manipulate and render graphical figures such as charts, plots, maps, diagrams, etc based on developer preference.\n",
        "import plotly.express as px\n",
        "fig = px.line(df,x=\"Date\",y=[\"High\",\"Open\",\"Close\",\"Low\"],title=\"Bitcoin price Evaluation from 2014 to 2022\")\n",
        "fig.update_yaxes(title_text=\"Price\")\n",
        "fig.show()"
      ],
      "metadata": {
        "colab": {
          "base_uri": "https://localhost:8080/",
          "height": 542
        },
        "id": "IGUfd1P0l7gE",
        "outputId": "8dabcb43-bf1c-4a0c-f306-c8cfbc651b4d"
      },
      "execution_count": null,
      "outputs": [
        {
          "output_type": "display_data",
          "data": {
            "text/html": [
              "<html>\n",
              "<head><meta charset=\"utf-8\" /></head>\n",
              "<body>\n",
              "    <div>            <script src=\"https://cdnjs.cloudflare.com/ajax/libs/mathjax/2.7.5/MathJax.js?config=TeX-AMS-MML_SVG\"></script><script type=\"text/javascript\">if (window.MathJax) {MathJax.Hub.Config({SVG: {font: \"STIX-Web\"}});}</script>                <script type=\"text/javascript\">window.PlotlyConfig = {MathJaxConfig: 'local'};</script>\n",
              "        <script src=\"https://cdn.plot.ly/plotly-2.8.3.min.js\"></script>                <div id=\"7f5d6316-00c2-4cdd-98e5-4dd4a96a8dd2\" class=\"plotly-graph-div\" style=\"height:525px; width:100%;\"></div>            <script type=\"text/javascript\">                                    window.PLOTLYENV=window.PLOTLYENV || {};                                    if (document.getElementById(\"7f5d6316-00c2-4cdd-98e5-4dd4a96a8dd2\")) {                    Plotly.newPlot(                        \"7f5d6316-00c2-4cdd-98e5-4dd4a96a8dd2\",                        [{\"hovertemplate\":\"variable=High<br>Date=%{x}<br>value=%{y}<extra></extra>\",\"legendgroup\":\"High\",\"line\":{\"color\":\"#636efa\",\"dash\":\"solid\"},\"marker\":{\"symbol\":\"circle\"},\"mode\":\"lines\",\"name\":\"High\",\"orientation\":\"v\",\"showlegend\":true,\"x\":[\"2014-10-01\",\"2014-11-01\",\"2014-12-01\",\"2015-01-01\",\"2015-02-01\",\"2015-03-01\",\"2015-04-01\",\"2015-05-01\",\"2015-06-01\",\"2015-07-01\",\"2015-08-01\",\"2015-09-01\",\"2015-10-01\",\"2015-11-01\",\"2015-12-01\",\"2016-01-01\",\"2016-02-01\",\"2016-03-01\",\"2016-04-01\",\"2016-05-01\",\"2016-06-01\",\"2016-07-01\",\"2016-08-01\",\"2016-09-01\",\"2016-10-01\",\"2016-11-01\",\"2016-12-01\",\"2017-01-01\",\"2017-02-01\",\"2017-03-01\",\"2017-04-01\",\"2017-05-01\",\"2017-06-01\",\"2017-07-01\",\"2017-08-01\",\"2017-09-01\",\"2017-10-01\",\"2017-11-01\",\"2017-12-01\",\"2018-01-01\",\"2018-02-01\",\"2018-03-01\",\"2018-04-01\",\"2018-05-01\",\"2018-06-01\",\"2018-07-01\",\"2018-08-01\",\"2018-09-01\",\"2018-10-01\",\"2018-11-01\",\"2018-12-01\",\"2019-01-01\",\"2019-02-01\",\"2019-03-01\",\"2019-04-01\",\"2019-05-01\",\"2019-06-01\",\"2019-07-01\",\"2019-08-01\",\"2019-09-01\",\"2019-10-01\",\"2019-11-01\",\"2019-12-01\",\"2020-01-01\",\"2020-02-01\",\"2020-03-01\",\"2020-04-01\",\"2020-05-01\",\"2020-06-01\",\"2020-07-01\",\"2020-08-01\",\"2020-09-01\",\"2020-10-01\",\"2020-11-01\",\"2020-12-01\",\"2021-01-01\",\"2021-02-01\",\"2021-03-01\",\"2021-04-01\",\"2021-05-01\",\"2021-06-01\",\"2021-07-01\",\"2021-08-01\",\"2021-09-01\",\"2021-10-01\",\"2021-11-01\",\"2021-12-01\",\"2022-01-01\",\"2022-02-01\",\"2022-03-01\",\"2022-04-01\",\"2022-05-01\",\"2022-06-01\",\"2022-07-01\",\"2022-08-01\",\"2022-09-01\",\"2022-10-01\",\"2022-11-01\",\"2022-12-01\"],\"xaxis\":\"x\",\"y\":[411.697998,457.092987,384.037994,320.434998,265.610992,300.044006,261.798004,247.804001,267.867004,314.394012,285.714996,259.182007,334.169006,495.562012,469.102997,462.93399,448.04599,439.653015,467.964996,553.960022,777.98999,704.968018,626.119019,628.817993,720.401978,756.237,979.396973,1191.099976,1200.390015,1280.310059,1347.910034,2763.709961,2999.909912,2916.139893,4736.049805,4975.040039,6470.430176,11517.400391,20089.0,17712.400391,11958.5,11704.099609,9745.320313,9964.5,7754.890137,8424.269531,7769.040039,7388.430176,6965.060059,6552.160156,4309.377441,4109.020996,4210.641602,4296.806641,5642.044434,9008.314453,13796.489258,13129.529297,12273.821289,10898.761719,10021.744141,9505.051758,7743.431641,9553.125977,10457.626953,9167.695313,9440.650391,9996.743164,10199.56543,11415.864258,12359.056641,12067.081055,14028.213867,19749.263672,29244.876953,41946.738281,58330.570313,61683.863281,64863.097656,59519.355469,41295.269531,42235.546875,50482.078125,52853.765625,66930.390625,68789.625,59041.683594,47881.40625,45661.171875,48086.835938,47313.476563,39902.949219,31957.285156,24572.580078,25135.589844,22673.820313,20988.394531,21446.886719,18318.53125],\"yaxis\":\"y\",\"type\":\"scatter\"},{\"hovertemplate\":\"variable=Open<br>Date=%{x}<br>value=%{y}<extra></extra>\",\"legendgroup\":\"Open\",\"line\":{\"color\":\"#EF553B\",\"dash\":\"solid\"},\"marker\":{\"symbol\":\"circle\"},\"mode\":\"lines\",\"name\":\"Open\",\"orientation\":\"v\",\"showlegend\":true,\"x\":[\"2014-10-01\",\"2014-11-01\",\"2014-12-01\",\"2015-01-01\",\"2015-02-01\",\"2015-03-01\",\"2015-04-01\",\"2015-05-01\",\"2015-06-01\",\"2015-07-01\",\"2015-08-01\",\"2015-09-01\",\"2015-10-01\",\"2015-11-01\",\"2015-12-01\",\"2016-01-01\",\"2016-02-01\",\"2016-03-01\",\"2016-04-01\",\"2016-05-01\",\"2016-06-01\",\"2016-07-01\",\"2016-08-01\",\"2016-09-01\",\"2016-10-01\",\"2016-11-01\",\"2016-12-01\",\"2017-01-01\",\"2017-02-01\",\"2017-03-01\",\"2017-04-01\",\"2017-05-01\",\"2017-06-01\",\"2017-07-01\",\"2017-08-01\",\"2017-09-01\",\"2017-10-01\",\"2017-11-01\",\"2017-12-01\",\"2018-01-01\",\"2018-02-01\",\"2018-03-01\",\"2018-04-01\",\"2018-05-01\",\"2018-06-01\",\"2018-07-01\",\"2018-08-01\",\"2018-09-01\",\"2018-10-01\",\"2018-11-01\",\"2018-12-01\",\"2019-01-01\",\"2019-02-01\",\"2019-03-01\",\"2019-04-01\",\"2019-05-01\",\"2019-06-01\",\"2019-07-01\",\"2019-08-01\",\"2019-09-01\",\"2019-10-01\",\"2019-11-01\",\"2019-12-01\",\"2020-01-01\",\"2020-02-01\",\"2020-03-01\",\"2020-04-01\",\"2020-05-01\",\"2020-06-01\",\"2020-07-01\",\"2020-08-01\",\"2020-09-01\",\"2020-10-01\",\"2020-11-01\",\"2020-12-01\",\"2021-01-01\",\"2021-02-01\",\"2021-03-01\",\"2021-04-01\",\"2021-05-01\",\"2021-06-01\",\"2021-07-01\",\"2021-08-01\",\"2021-09-01\",\"2021-10-01\",\"2021-11-01\",\"2021-12-01\",\"2022-01-01\",\"2022-02-01\",\"2022-03-01\",\"2022-04-01\",\"2022-05-01\",\"2022-06-01\",\"2022-07-01\",\"2022-08-01\",\"2022-09-01\",\"2022-10-01\",\"2022-11-01\",\"2022-12-01\"],\"xaxis\":\"x\",\"y\":[387.427002,338.649994,378.248993,320.434998,216.867004,254.283005,244.223007,235.938995,230.233002,263.345001,284.686005,230.255997,236.003998,315.005005,377.414001,430.721008,369.350006,437.916992,416.76001,448.484009,531.106995,672.515015,624.60199,575.546021,609.929016,701.336975,746.046021,963.65802,970.940979,1180.040039,1071.709961,1348.300049,2288.330078,2492.600098,2871.300049,4701.759766,4341.049805,6440.970215,10198.599609,14112.200195,10237.299805,10385.0,7003.060059,9251.469727,7500.700195,6411.680176,7769.040039,7044.810059,6619.850098,6318.140137,4024.464355,3746.713379,3460.547119,3853.75708,4105.362305,5350.914551,8573.839844,10796.930664,10077.442383,9630.592773,8299.720703,9193.992188,7571.616211,7194.89209,9346.357422,8599.758789,6437.319336,8672.782227,9463.605469,9145.985352,11322.570313,11679.316406,10795.254883,13780.995117,19633.769531,28994.009766,33114.578125,45159.503906,58926.5625,57714.664063,37293.792969,35035.984375,41460.84375,47099.773438,43816.742188,61320.449219,56907.964844,46311.746094,38481.765625,43194.503906,45554.164063,37713.265625,31792.554688,19820.470703,23336.71875,20050.498047,19431.105469,20494.898438,17168.001953],\"yaxis\":\"y\",\"type\":\"scatter\"},{\"hovertemplate\":\"variable=Close<br>Date=%{x}<br>value=%{y}<extra></extra>\",\"legendgroup\":\"Close\",\"line\":{\"color\":\"#00cc96\",\"dash\":\"solid\"},\"marker\":{\"symbol\":\"circle\"},\"mode\":\"lines\",\"name\":\"Close\",\"orientation\":\"v\",\"showlegend\":true,\"x\":[\"2014-10-01\",\"2014-11-01\",\"2014-12-01\",\"2015-01-01\",\"2015-02-01\",\"2015-03-01\",\"2015-04-01\",\"2015-05-01\",\"2015-06-01\",\"2015-07-01\",\"2015-08-01\",\"2015-09-01\",\"2015-10-01\",\"2015-11-01\",\"2015-12-01\",\"2016-01-01\",\"2016-02-01\",\"2016-03-01\",\"2016-04-01\",\"2016-05-01\",\"2016-06-01\",\"2016-07-01\",\"2016-08-01\",\"2016-09-01\",\"2016-10-01\",\"2016-11-01\",\"2016-12-01\",\"2017-01-01\",\"2017-02-01\",\"2017-03-01\",\"2017-04-01\",\"2017-05-01\",\"2017-06-01\",\"2017-07-01\",\"2017-08-01\",\"2017-09-01\",\"2017-10-01\",\"2017-11-01\",\"2017-12-01\",\"2018-01-01\",\"2018-02-01\",\"2018-03-01\",\"2018-04-01\",\"2018-05-01\",\"2018-06-01\",\"2018-07-01\",\"2018-08-01\",\"2018-09-01\",\"2018-10-01\",\"2018-11-01\",\"2018-12-01\",\"2019-01-01\",\"2019-02-01\",\"2019-03-01\",\"2019-04-01\",\"2019-05-01\",\"2019-06-01\",\"2019-07-01\",\"2019-08-01\",\"2019-09-01\",\"2019-10-01\",\"2019-11-01\",\"2019-12-01\",\"2020-01-01\",\"2020-02-01\",\"2020-03-01\",\"2020-04-01\",\"2020-05-01\",\"2020-06-01\",\"2020-07-01\",\"2020-08-01\",\"2020-09-01\",\"2020-10-01\",\"2020-11-01\",\"2020-12-01\",\"2021-01-01\",\"2021-02-01\",\"2021-03-01\",\"2021-04-01\",\"2021-05-01\",\"2021-06-01\",\"2021-07-01\",\"2021-08-01\",\"2021-09-01\",\"2021-10-01\",\"2021-11-01\",\"2021-12-01\",\"2022-01-01\",\"2022-02-01\",\"2022-03-01\",\"2022-04-01\",\"2022-05-01\",\"2022-06-01\",\"2022-07-01\",\"2022-08-01\",\"2022-09-01\",\"2022-10-01\",\"2022-11-01\",\"2022-12-01\"],\"xaxis\":\"x\",\"y\":[338.321014,378.046997,320.192993,217.464005,254.263,244.223999,236.145004,230.190002,263.071991,284.649994,230.056,236.059998,314.165985,377.321014,430.566986,368.766998,437.696991,416.729004,448.317993,531.385986,673.336975,624.68103,575.471985,609.734985,700.971985,745.690979,963.742981,970.403015,1179.969971,1071.790039,1347.890015,2286.409912,2480.840088,2875.340088,4703.390137,4338.709961,6468.399902,10233.599609,14156.400391,10221.099609,10397.900391,6973.529785,9240.549805,7494.169922,6404.0,7780.439941,7037.580078,6625.560059,6317.609863,4017.268555,3742.700439,3457.792725,3854.7854,4105.404297,5350.726563,8574.501953,10817.155273,10085.62793,9630.664063,8293.868164,9199.584961,7569.629883,7193.599121,9350.529297,8599.508789,6438.644531,8658.553711,9461.058594,9137.993164,11323.466797,11680.820313,10784.491211,13780.995117,19625.835938,29001.720703,33114.359375,45137.769531,58918.832031,57750.175781,37332.855469,35040.835938,41626.195313,47166.6875,43790.894531,61318.957031,57005.425781,46306.445313,38483.125,43193.234375,45538.675781,37714.875,31792.310547,19784.726563,23336.896484,20049.763672,19431.789063,20495.773438,17168.566406,16602.585938],\"yaxis\":\"y\",\"type\":\"scatter\"},{\"hovertemplate\":\"variable=Low<br>Date=%{x}<br>value=%{y}<extra></extra>\",\"legendgroup\":\"Low\",\"line\":{\"color\":\"#ab63fa\",\"dash\":\"solid\"},\"marker\":{\"symbol\":\"circle\"},\"mode\":\"lines\",\"name\":\"Low\",\"orientation\":\"v\",\"showlegend\":true,\"x\":[\"2014-10-01\",\"2014-11-01\",\"2014-12-01\",\"2015-01-01\",\"2015-02-01\",\"2015-03-01\",\"2015-04-01\",\"2015-05-01\",\"2015-06-01\",\"2015-07-01\",\"2015-08-01\",\"2015-09-01\",\"2015-10-01\",\"2015-11-01\",\"2015-12-01\",\"2016-01-01\",\"2016-02-01\",\"2016-03-01\",\"2016-04-01\",\"2016-05-01\",\"2016-06-01\",\"2016-07-01\",\"2016-08-01\",\"2016-09-01\",\"2016-10-01\",\"2016-11-01\",\"2016-12-01\",\"2017-01-01\",\"2017-02-01\",\"2017-03-01\",\"2017-04-01\",\"2017-05-01\",\"2017-06-01\",\"2017-07-01\",\"2017-08-01\",\"2017-09-01\",\"2017-10-01\",\"2017-11-01\",\"2017-12-01\",\"2018-01-01\",\"2018-02-01\",\"2018-03-01\",\"2018-04-01\",\"2018-05-01\",\"2018-06-01\",\"2018-07-01\",\"2018-08-01\",\"2018-09-01\",\"2018-10-01\",\"2018-11-01\",\"2018-12-01\",\"2019-01-01\",\"2019-02-01\",\"2019-03-01\",\"2019-04-01\",\"2019-05-01\",\"2019-06-01\",\"2019-07-01\",\"2019-08-01\",\"2019-09-01\",\"2019-10-01\",\"2019-11-01\",\"2019-12-01\",\"2020-01-01\",\"2020-02-01\",\"2020-03-01\",\"2020-04-01\",\"2020-05-01\",\"2020-06-01\",\"2020-07-01\",\"2020-08-01\",\"2020-09-01\",\"2020-10-01\",\"2020-11-01\",\"2020-12-01\",\"2021-01-01\",\"2021-02-01\",\"2021-03-01\",\"2021-04-01\",\"2021-05-01\",\"2021-06-01\",\"2021-07-01\",\"2021-08-01\",\"2021-09-01\",\"2021-10-01\",\"2021-11-01\",\"2021-12-01\",\"2022-01-01\",\"2022-02-01\",\"2022-03-01\",\"2022-04-01\",\"2022-05-01\",\"2022-06-01\",\"2022-07-01\",\"2022-08-01\",\"2022-09-01\",\"2022-10-01\",\"2022-11-01\",\"2022-12-01\"],\"xaxis\":\"x\",\"y\":[289.29599,320.626007,304.231995,171.509995,212.014999,236.514999,214.873993,228.572998,221.296005,253.505005,199.567001,225.117004,235.615997,300.997009,349.464996,354.914001,367.957001,394.035004,415.830994,437.389008,525.635986,611.833984,531.333984,570.810974,609.479004,678.156006,746.046021,755.755981,946.690979,903.713013,1061.089966,1348.300049,2212.959961,1843.030029,2668.590088,2946.620117,4164.049805,5519.009766,9694.650391,9402.290039,6048.259766,6683.930176,6526.870117,7090.680176,5826.410156,6136.419922,5971.049805,6197.52002,6236.470215,3585.060059,3191.303467,3400.819824,3391.023682,3733.749756,4096.901367,5347.645996,7564.48877,9163.134766,9421.629883,7830.758789,7446.98877,6617.166992,6540.049316,6914.996094,8492.932617,4106.980957,6202.373535,8374.323242,8975.525391,8977.015625,11012.415039,9916.493164,10416.689453,13243.160156,17619.533203,28722.755859,32384.228516,45115.09375,47159.484375,30681.496094,28893.621094,29360.955078,37458.003906,39787.609375,43320.023438,53569.765625,42874.617188,33184.058594,34459.21875,37260.203125,37697.941406,26350.490234,17708.623047,18966.951172,19600.785156,18290.314453,18319.822266,15599.046875,16398.136719],\"yaxis\":\"y\",\"type\":\"scatter\"}],                        {\"template\":{\"data\":{\"bar\":[{\"error_x\":{\"color\":\"#2a3f5f\"},\"error_y\":{\"color\":\"#2a3f5f\"},\"marker\":{\"line\":{\"color\":\"#E5ECF6\",\"width\":0.5},\"pattern\":{\"fillmode\":\"overlay\",\"size\":10,\"solidity\":0.2}},\"type\":\"bar\"}],\"barpolar\":[{\"marker\":{\"line\":{\"color\":\"#E5ECF6\",\"width\":0.5},\"pattern\":{\"fillmode\":\"overlay\",\"size\":10,\"solidity\":0.2}},\"type\":\"barpolar\"}],\"carpet\":[{\"aaxis\":{\"endlinecolor\":\"#2a3f5f\",\"gridcolor\":\"white\",\"linecolor\":\"white\",\"minorgridcolor\":\"white\",\"startlinecolor\":\"#2a3f5f\"},\"baxis\":{\"endlinecolor\":\"#2a3f5f\",\"gridcolor\":\"white\",\"linecolor\":\"white\",\"minorgridcolor\":\"white\",\"startlinecolor\":\"#2a3f5f\"},\"type\":\"carpet\"}],\"choropleth\":[{\"colorbar\":{\"outlinewidth\":0,\"ticks\":\"\"},\"type\":\"choropleth\"}],\"contour\":[{\"colorbar\":{\"outlinewidth\":0,\"ticks\":\"\"},\"colorscale\":[[0.0,\"#0d0887\"],[0.1111111111111111,\"#46039f\"],[0.2222222222222222,\"#7201a8\"],[0.3333333333333333,\"#9c179e\"],[0.4444444444444444,\"#bd3786\"],[0.5555555555555556,\"#d8576b\"],[0.6666666666666666,\"#ed7953\"],[0.7777777777777778,\"#fb9f3a\"],[0.8888888888888888,\"#fdca26\"],[1.0,\"#f0f921\"]],\"type\":\"contour\"}],\"contourcarpet\":[{\"colorbar\":{\"outlinewidth\":0,\"ticks\":\"\"},\"type\":\"contourcarpet\"}],\"heatmap\":[{\"colorbar\":{\"outlinewidth\":0,\"ticks\":\"\"},\"colorscale\":[[0.0,\"#0d0887\"],[0.1111111111111111,\"#46039f\"],[0.2222222222222222,\"#7201a8\"],[0.3333333333333333,\"#9c179e\"],[0.4444444444444444,\"#bd3786\"],[0.5555555555555556,\"#d8576b\"],[0.6666666666666666,\"#ed7953\"],[0.7777777777777778,\"#fb9f3a\"],[0.8888888888888888,\"#fdca26\"],[1.0,\"#f0f921\"]],\"type\":\"heatmap\"}],\"heatmapgl\":[{\"colorbar\":{\"outlinewidth\":0,\"ticks\":\"\"},\"colorscale\":[[0.0,\"#0d0887\"],[0.1111111111111111,\"#46039f\"],[0.2222222222222222,\"#7201a8\"],[0.3333333333333333,\"#9c179e\"],[0.4444444444444444,\"#bd3786\"],[0.5555555555555556,\"#d8576b\"],[0.6666666666666666,\"#ed7953\"],[0.7777777777777778,\"#fb9f3a\"],[0.8888888888888888,\"#fdca26\"],[1.0,\"#f0f921\"]],\"type\":\"heatmapgl\"}],\"histogram\":[{\"marker\":{\"pattern\":{\"fillmode\":\"overlay\",\"size\":10,\"solidity\":0.2}},\"type\":\"histogram\"}],\"histogram2d\":[{\"colorbar\":{\"outlinewidth\":0,\"ticks\":\"\"},\"colorscale\":[[0.0,\"#0d0887\"],[0.1111111111111111,\"#46039f\"],[0.2222222222222222,\"#7201a8\"],[0.3333333333333333,\"#9c179e\"],[0.4444444444444444,\"#bd3786\"],[0.5555555555555556,\"#d8576b\"],[0.6666666666666666,\"#ed7953\"],[0.7777777777777778,\"#fb9f3a\"],[0.8888888888888888,\"#fdca26\"],[1.0,\"#f0f921\"]],\"type\":\"histogram2d\"}],\"histogram2dcontour\":[{\"colorbar\":{\"outlinewidth\":0,\"ticks\":\"\"},\"colorscale\":[[0.0,\"#0d0887\"],[0.1111111111111111,\"#46039f\"],[0.2222222222222222,\"#7201a8\"],[0.3333333333333333,\"#9c179e\"],[0.4444444444444444,\"#bd3786\"],[0.5555555555555556,\"#d8576b\"],[0.6666666666666666,\"#ed7953\"],[0.7777777777777778,\"#fb9f3a\"],[0.8888888888888888,\"#fdca26\"],[1.0,\"#f0f921\"]],\"type\":\"histogram2dcontour\"}],\"mesh3d\":[{\"colorbar\":{\"outlinewidth\":0,\"ticks\":\"\"},\"type\":\"mesh3d\"}],\"parcoords\":[{\"line\":{\"colorbar\":{\"outlinewidth\":0,\"ticks\":\"\"}},\"type\":\"parcoords\"}],\"pie\":[{\"automargin\":true,\"type\":\"pie\"}],\"scatter\":[{\"marker\":{\"colorbar\":{\"outlinewidth\":0,\"ticks\":\"\"}},\"type\":\"scatter\"}],\"scatter3d\":[{\"line\":{\"colorbar\":{\"outlinewidth\":0,\"ticks\":\"\"}},\"marker\":{\"colorbar\":{\"outlinewidth\":0,\"ticks\":\"\"}},\"type\":\"scatter3d\"}],\"scattercarpet\":[{\"marker\":{\"colorbar\":{\"outlinewidth\":0,\"ticks\":\"\"}},\"type\":\"scattercarpet\"}],\"scattergeo\":[{\"marker\":{\"colorbar\":{\"outlinewidth\":0,\"ticks\":\"\"}},\"type\":\"scattergeo\"}],\"scattergl\":[{\"marker\":{\"colorbar\":{\"outlinewidth\":0,\"ticks\":\"\"}},\"type\":\"scattergl\"}],\"scattermapbox\":[{\"marker\":{\"colorbar\":{\"outlinewidth\":0,\"ticks\":\"\"}},\"type\":\"scattermapbox\"}],\"scatterpolar\":[{\"marker\":{\"colorbar\":{\"outlinewidth\":0,\"ticks\":\"\"}},\"type\":\"scatterpolar\"}],\"scatterpolargl\":[{\"marker\":{\"colorbar\":{\"outlinewidth\":0,\"ticks\":\"\"}},\"type\":\"scatterpolargl\"}],\"scatterternary\":[{\"marker\":{\"colorbar\":{\"outlinewidth\":0,\"ticks\":\"\"}},\"type\":\"scatterternary\"}],\"surface\":[{\"colorbar\":{\"outlinewidth\":0,\"ticks\":\"\"},\"colorscale\":[[0.0,\"#0d0887\"],[0.1111111111111111,\"#46039f\"],[0.2222222222222222,\"#7201a8\"],[0.3333333333333333,\"#9c179e\"],[0.4444444444444444,\"#bd3786\"],[0.5555555555555556,\"#d8576b\"],[0.6666666666666666,\"#ed7953\"],[0.7777777777777778,\"#fb9f3a\"],[0.8888888888888888,\"#fdca26\"],[1.0,\"#f0f921\"]],\"type\":\"surface\"}],\"table\":[{\"cells\":{\"fill\":{\"color\":\"#EBF0F8\"},\"line\":{\"color\":\"white\"}},\"header\":{\"fill\":{\"color\":\"#C8D4E3\"},\"line\":{\"color\":\"white\"}},\"type\":\"table\"}]},\"layout\":{\"annotationdefaults\":{\"arrowcolor\":\"#2a3f5f\",\"arrowhead\":0,\"arrowwidth\":1},\"autotypenumbers\":\"strict\",\"coloraxis\":{\"colorbar\":{\"outlinewidth\":0,\"ticks\":\"\"}},\"colorscale\":{\"diverging\":[[0,\"#8e0152\"],[0.1,\"#c51b7d\"],[0.2,\"#de77ae\"],[0.3,\"#f1b6da\"],[0.4,\"#fde0ef\"],[0.5,\"#f7f7f7\"],[0.6,\"#e6f5d0\"],[0.7,\"#b8e186\"],[0.8,\"#7fbc41\"],[0.9,\"#4d9221\"],[1,\"#276419\"]],\"sequential\":[[0.0,\"#0d0887\"],[0.1111111111111111,\"#46039f\"],[0.2222222222222222,\"#7201a8\"],[0.3333333333333333,\"#9c179e\"],[0.4444444444444444,\"#bd3786\"],[0.5555555555555556,\"#d8576b\"],[0.6666666666666666,\"#ed7953\"],[0.7777777777777778,\"#fb9f3a\"],[0.8888888888888888,\"#fdca26\"],[1.0,\"#f0f921\"]],\"sequentialminus\":[[0.0,\"#0d0887\"],[0.1111111111111111,\"#46039f\"],[0.2222222222222222,\"#7201a8\"],[0.3333333333333333,\"#9c179e\"],[0.4444444444444444,\"#bd3786\"],[0.5555555555555556,\"#d8576b\"],[0.6666666666666666,\"#ed7953\"],[0.7777777777777778,\"#fb9f3a\"],[0.8888888888888888,\"#fdca26\"],[1.0,\"#f0f921\"]]},\"colorway\":[\"#636efa\",\"#EF553B\",\"#00cc96\",\"#ab63fa\",\"#FFA15A\",\"#19d3f3\",\"#FF6692\",\"#B6E880\",\"#FF97FF\",\"#FECB52\"],\"font\":{\"color\":\"#2a3f5f\"},\"geo\":{\"bgcolor\":\"white\",\"lakecolor\":\"white\",\"landcolor\":\"#E5ECF6\",\"showlakes\":true,\"showland\":true,\"subunitcolor\":\"white\"},\"hoverlabel\":{\"align\":\"left\"},\"hovermode\":\"closest\",\"mapbox\":{\"style\":\"light\"},\"paper_bgcolor\":\"white\",\"plot_bgcolor\":\"#E5ECF6\",\"polar\":{\"angularaxis\":{\"gridcolor\":\"white\",\"linecolor\":\"white\",\"ticks\":\"\"},\"bgcolor\":\"#E5ECF6\",\"radialaxis\":{\"gridcolor\":\"white\",\"linecolor\":\"white\",\"ticks\":\"\"}},\"scene\":{\"xaxis\":{\"backgroundcolor\":\"#E5ECF6\",\"gridcolor\":\"white\",\"gridwidth\":2,\"linecolor\":\"white\",\"showbackground\":true,\"ticks\":\"\",\"zerolinecolor\":\"white\"},\"yaxis\":{\"backgroundcolor\":\"#E5ECF6\",\"gridcolor\":\"white\",\"gridwidth\":2,\"linecolor\":\"white\",\"showbackground\":true,\"ticks\":\"\",\"zerolinecolor\":\"white\"},\"zaxis\":{\"backgroundcolor\":\"#E5ECF6\",\"gridcolor\":\"white\",\"gridwidth\":2,\"linecolor\":\"white\",\"showbackground\":true,\"ticks\":\"\",\"zerolinecolor\":\"white\"}},\"shapedefaults\":{\"line\":{\"color\":\"#2a3f5f\"}},\"ternary\":{\"aaxis\":{\"gridcolor\":\"white\",\"linecolor\":\"white\",\"ticks\":\"\"},\"baxis\":{\"gridcolor\":\"white\",\"linecolor\":\"white\",\"ticks\":\"\"},\"bgcolor\":\"#E5ECF6\",\"caxis\":{\"gridcolor\":\"white\",\"linecolor\":\"white\",\"ticks\":\"\"}},\"title\":{\"x\":0.05},\"xaxis\":{\"automargin\":true,\"gridcolor\":\"white\",\"linecolor\":\"white\",\"ticks\":\"\",\"title\":{\"standoff\":15},\"zerolinecolor\":\"white\",\"zerolinewidth\":2},\"yaxis\":{\"automargin\":true,\"gridcolor\":\"white\",\"linecolor\":\"white\",\"ticks\":\"\",\"title\":{\"standoff\":15},\"zerolinecolor\":\"white\",\"zerolinewidth\":2}}},\"xaxis\":{\"anchor\":\"y\",\"domain\":[0.0,1.0],\"title\":{\"text\":\"Date\"}},\"yaxis\":{\"anchor\":\"x\",\"domain\":[0.0,1.0],\"title\":{\"text\":\"Price\"}},\"legend\":{\"title\":{\"text\":\"variable\"},\"tracegroupgap\":0},\"title\":{\"text\":\"Bitcoin price Evaluation from 2014 to 2022\"}},                        {\"responsive\": true}                    ).then(function(){\n",
              "                            \n",
              "var gd = document.getElementById('7f5d6316-00c2-4cdd-98e5-4dd4a96a8dd2');\n",
              "var x = new MutationObserver(function (mutations, observer) {{\n",
              "        var display = window.getComputedStyle(gd).display;\n",
              "        if (!display || display === 'none') {{\n",
              "            console.log([gd, 'removed!']);\n",
              "            Plotly.purge(gd);\n",
              "            observer.disconnect();\n",
              "        }}\n",
              "}});\n",
              "\n",
              "// Listen for the removal of the full notebook cells\n",
              "var notebookContainer = gd.closest('#notebook-container');\n",
              "if (notebookContainer) {{\n",
              "    x.observe(notebookContainer, {childList: true});\n",
              "}}\n",
              "\n",
              "// Listen for the clearing of the current output cell\n",
              "var outputEl = gd.closest('.output');\n",
              "if (outputEl) {{\n",
              "    x.observe(outputEl, {childList: true});\n",
              "}}\n",
              "\n",
              "                        })                };                            </script>        </div>\n",
              "</body>\n",
              "</html>"
            ]
          },
          "metadata": {}
        }
      ]
    },
    {
      "cell_type": "code",
      "source": [
        "time_stamp = ['2014-10-01','2015-10-01','2016-10-01','2017-10-01','2018-10-01','2019-10-01','2020-10-01','2021-10-01','2022-10-01']\n",
        "fig, ax = plt.subplots(figsize=(14,9))\n",
        "ax.plot(df.Date,df.Close)\n",
        "\n",
        "ax.set_xticks(time_stamp)\n",
        "ax.set_xlabel(\"Dates\")\n",
        "ax.set_ylabel(\"Close Price\")\n",
        "\n",
        "plt.show()"
      ],
      "metadata": {
        "colab": {
          "base_uri": "https://localhost:8080/",
          "height": 423
        },
        "id": "az_XeR8BHMVY",
        "outputId": "f9b593e7-5d0d-433d-9209-b4759625ef1a"
      },
      "execution_count": null,
      "outputs": [
        {
          "output_type": "display_data",
          "data": {
            "text/plain": [
              "<Figure size 1008x648 with 1 Axes>"
            ],
            "image/png": "[encoded data removed]"
          },
          "metadata": {
            "needs_background": "light"
          }
        }
      ]
    },
    {
      "cell_type": "markdown",
      "source": [],
      "metadata": {
        "id": "UHlKi6WuJ3mW"
      }
    },
    {
      "cell_type": "code",
      "source": [
        "# Checking for the Nan values\n",
        "for i in df.columns:\n",
        "  print(i,\"\\t\\t\",df[i].isna().mean()*100)"
      ],
      "metadata": {
        "colab": {
          "base_uri": "https://localhost:8080/"
        },
        "id": "hoP7jiKf2jDW",
        "outputId": "dd528bb5-4ea3-416f-fd2c-c241acdf8f5f"
      },
      "execution_count": null,
      "outputs": [
        {
          "output_type": "stream",
          "name": "stdout",
          "text": [
            "Date \t\t 0.0\n",
            "Open \t\t 0.0\n",
            "High \t\t 0.0\n",
            "Low \t\t 0.0\n",
            "Close \t\t 0.0\n",
            "Adj Close \t\t 0.0\n",
            "Volume \t\t 0.0\n"
          ]
        }
      ]
    },
    {
      "cell_type": "code",
      "source": [
        "df1 = df[['Open','Close','Low','High']]\n",
        "sns.pairplot(df1)\n",
        "# plt.tight_layout()"
      ],
      "metadata": {
        "colab": {
          "base_uri": "https://localhost:8080/",
          "height": 679
        },
        "id": "kVYNCqzRX-mC",
        "outputId": "d710f7a8-4fc1-436e-8680-5e25346199b8"
      },
      "execution_count": null,
      "outputs": [
        {
          "output_type": "execute_result",
          "data": {
            "text/plain": [
              "<seaborn.axisgrid.PairGrid at 0x7f59ebec8e50>"
            ]
          },
          "metadata": {},
          "execution_count": 6
        },
        {
          "output_type": "display_data",
          "data": {
            "text/plain": [
              "<Figure size 720x720 with 20 Axes>"
            ],
            "image/png": "[encoded data removed]"
          },
          "metadata": {
            "needs_background": "light"
          }
        }
      ]
    },
    {
      "cell_type": "markdown",
      "source": [
        "Since other parameters have linear relationship with Close, we are using some linear model for prediction "
      ],
      "metadata": {
        "id": "oEMVZOqPYrxE"
      }
    },
    {
      "cell_type": "code",
      "source": [
        "X = df1.drop(['Close'],axis=1)\n",
        "y = df1['Close']\n",
        "y.head()"
      ],
      "metadata": {
        "colab": {
          "base_uri": "https://localhost:8080/"
        },
        "id": "MjnGrPdFY6wz",
        "outputId": "63516d4b-3fb1-4358-dfbd-f4e845ed4b30"
      },
      "execution_count": null,
      "outputs": [
        {
          "output_type": "execute_result",
          "data": {
            "text/plain": [
              "0    338.321014\n",
              "1    378.046997\n",
              "2    320.192993\n",
              "3    217.464005\n",
              "4    254.263000\n",
              "Name: Close, dtype: float64"
            ]
          },
          "metadata": {},
          "execution_count": 7
        }
      ]
    },
    {
      "cell_type": "markdown",
      "source": [
        "Since range of data in different columns veries significantly we have to sacle independent variable X. For this we use Min-Max Scaling"
      ],
      "metadata": {
        "id": "KShVsL2XZDEV"
      }
    },
    {
      "cell_type": "code",
      "source": [
        "from sklearn.preprocessing import MinMaxScaler \n",
        "\n",
        "scaler = MinMaxScaler()\n",
        "X = pd.DataFrame(scaler.fit_transform(X),columns=X.columns)\n",
        "X.head()"
      ],
      "metadata": {
        "colab": {
          "base_uri": "https://localhost:8080/",
          "height": 206
        },
        "id": "cWWhmAh3Zcn-",
        "outputId": "0c489b0a-913e-4399-db73-379b7e9768eb"
      },
      "execution_count": null,
      "outputs": [
        {
          "output_type": "execute_result",
          "data": {
            "text/plain": [
              "       Open       Low      High\n",
              "0  0.002791  0.002206  0.002391\n",
              "1  0.001993  0.002793  0.003053\n",
              "2  0.002641  0.002486  0.001988\n",
              "3  0.001695  0.000000  0.001060\n",
              "4  0.000000  0.000759  0.000260"
            ],
            "text/html": [
              "\n",
              "  <div id=\"df-185e5779-ee2d-4552-9e7b-45543fa7913f\">\n",
              "    <div class=\"colab-df-container\">\n",
              "      <div>\n",
              "<style scoped>\n",
              "    .dataframe tbody tr th:only-of-type {\n",
              "        vertical-align: middle;\n",
              "    }\n",
              "\n",
              "    .dataframe tbody tr th {\n",
              "        vertical-align: top;\n",
              "    }\n",
              "\n",
              "    .dataframe thead th {\n",
              "        text-align: right;\n",
              "    }\n",
              "</style>\n",
              "<table border=\"1\" class=\"dataframe\">\n",
              "  <thead>\n",
              "    <tr style=\"text-align: right;\">\n",
              "      <th></th>\n",
              "      <th>Open</th>\n",
              "      <th>Low</th>\n",
              "      <th>High</th>\n",
              "    </tr>\n",
              "  </thead>\n",
              "  <tbody>\n",
              "    <tr>\n",
              "      <th>0</th>\n",
              "      <td>0.002791</td>\n",
              "      <td>0.002206</td>\n",
              "      <td>0.002391</td>\n",
              "    </tr>\n",
              "    <tr>\n",
              "      <th>1</th>\n",
              "      <td>0.001993</td>\n",
              "      <td>0.002793</td>\n",
              "      <td>0.003053</td>\n",
              "    </tr>\n",
              "    <tr>\n",
              "      <th>2</th>\n",
              "      <td>0.002641</td>\n",
              "      <td>0.002486</td>\n",
              "      <td>0.001988</td>\n",
              "    </tr>\n",
              "    <tr>\n",
              "      <th>3</th>\n",
              "      <td>0.001695</td>\n",
              "      <td>0.000000</td>\n",
              "      <td>0.001060</td>\n",
              "    </tr>\n",
              "    <tr>\n",
              "      <th>4</th>\n",
              "      <td>0.000000</td>\n",
              "      <td>0.000759</td>\n",
              "      <td>0.000260</td>\n",
              "    </tr>\n",
              "  </tbody>\n",
              "</table>\n",
              "</div>\n",
              "      <button class=\"colab-df-convert\" onclick=\"convertToInteractive('df-185e5779-ee2d-4552-9e7b-45543fa7913f')\"\n",
              "              title=\"Convert this dataframe to an interactive table.\"\n",
              "              style=\"display:none;\">\n",
              "        \n",
              "  <svg xmlns=\"http://www.w3.org/2000/svg\" height=\"24px\"viewBox=\"0 0 24 24\"\n",
              "       width=\"24px\">\n",
              "    <path d=\"M0 0h24v24H0V0z\" fill=\"none\"/>\n",
              "    <path d=\"M18.56 5.44l.94 2.06.94-2.06 2.06-.94-2.06-.94-.94-2.06-.94 2.06-2.06.94zm-11 1L8.5 8.5l.94-2.06 2.06-.94-2.06-.94L8.5 2.5l-.94 2.06-2.06.94zm10 10l.94 2.06.94-2.06 2.06-.94-2.06-.94-.94-2.06-.94 2.06-2.06.94z\"/><path d=\"M17.41 7.96l-1.37-1.37c-.4-.4-.92-.59-1.43-.59-.52 0-1.04.2-1.43.59L10.3 9.45l-7.72 7.72c-.78.78-.78 2.05 0 2.83L4 21.41c.39.39.9.59 1.41.59.51 0 1.02-.2 1.41-.59l7.78-7.78 2.81-2.81c.8-.78.8-2.07 0-2.86zM5.41 20L4 18.59l7.72-7.72 1.47 1.35L5.41 20z\"/>\n",
              "  </svg>\n",
              "      </button>\n",
              "      \n",
              "  <style>\n",
              "    .colab-df-container {\n",
              "      display:flex;\n",
              "      flex-wrap:wrap;\n",
              "      gap: 12px;\n",
              "    }\n",
              "\n",
              "    .colab-df-convert {\n",
              "      background-color: #E8F0FE;\n",
              "      border: none;\n",
              "      border-radius: 50%;\n",
              "      cursor: pointer;\n",
              "      display: none;\n",
              "      fill: #1967D2;\n",
              "      height: 32px;\n",
              "      padding: 0 0 0 0;\n",
              "      width: 32px;\n",
              "    }\n",
              "\n",
              "    .colab-df-convert:hover {\n",
              "      background-color: #E2EBFA;\n",
              "      box-shadow: 0px 1px 2px rgba(60, 64, 67, 0.3), 0px 1px 3px 1px rgba(60, 64, 67, 0.15);\n",
              "      fill: #174EA6;\n",
              "    }\n",
              "\n",
              "    [theme=dark] .colab-df-convert {\n",
              "      background-color: #3B4455;\n",
              "      fill: #D2E3FC;\n",
              "    }\n",
              "\n",
              "    [theme=dark] .colab-df-convert:hover {\n",
              "      background-color: #434B5C;\n",
              "      box-shadow: 0px 1px 3px 1px rgba(0, 0, 0, 0.15);\n",
              "      filter: drop-shadow(0px 1px 2px rgba(0, 0, 0, 0.3));\n",
              "      fill: #FFFFFF;\n",
              "    }\n",
              "  </style>\n",
              "\n",
              "      <script>\n",
              "        const buttonEl =\n",
              "          document.querySelector('#df-185e5779-ee2d-4552-9e7b-45543fa7913f button.colab-df-convert');\n",
              "        buttonEl.style.display =\n",
              "          google.colab.kernel.accessAllowed ? 'block' : 'none';\n",
              "\n",
              "        async function convertToInteractive(key) {\n",
              "          const element = document.querySelector('#df-185e5779-ee2d-4552-9e7b-45543fa7913f');\n",
              "          const dataTable =\n",
              "            await google.colab.kernel.invokeFunction('convertToInteractive',\n",
              "                                                     [key], {});\n",
              "          if (!dataTable) return;\n",
              "\n",
              "          const docLinkHtml = 'Like what you see? Visit the ' +\n",
              "            '<a target=\"_blank\" href=https://colab.research.google.com/notebooks/data_table.ipynb>data table notebook</a>'\n",
              "            + ' to learn more about interactive tables.';\n",
              "          element.innerHTML = '';\n",
              "          dataTable['output_type'] = 'display_data';\n",
              "          await google.colab.output.renderOutput(dataTable, element);\n",
              "          const docLink = document.createElement('div');\n",
              "          docLink.innerHTML = docLinkHtml;\n",
              "          element.appendChild(docLink);\n",
              "        }\n",
              "      </script>\n",
              "    </div>\n",
              "  </div>\n",
              "  "
            ]
          },
          "metadata": {},
          "execution_count": 8
        }
      ]
    },
    {
      "cell_type": "markdown",
      "source": [
        "# Prediction Model"
      ],
      "metadata": {
        "id": "4PLkZyi1bF4Y"
      }
    },
    {
      "cell_type": "code",
      "source": [
        "# Split data into test train pairs\n",
        "from sklearn.model_selection import train_test_split\n",
        "\n",
        "X_train, X_test, y_train, y_test = train_test_split(X,y,test_size = 0.2, shuffle=False)\n",
        "Acc = []"
      ],
      "metadata": {
        "id": "sIe6-evQbIox"
      },
      "execution_count": null,
      "outputs": []
    },
    {
      "cell_type": "markdown",
      "source": [
        "## 1. Linear Regression"
      ],
      "metadata": {
        "id": "a2nIE8qEbm0V"
      }
    },
    {
      "cell_type": "code",
      "source": [
        "from sklearn.linear_model import LinearRegression\n",
        "\n",
        "model_LR = LinearRegression()\n",
        "model_LR.fit(X_train,y_train)"
      ],
      "metadata": {
        "colab": {
          "base_uri": "https://localhost:8080/"
        },
        "id": "6PxHOuD7byOH",
        "outputId": "7e9d5a78-c5f3-4051-ebfb-4e43fac6b904"
      },
      "execution_count": null,
      "outputs": [
        {
          "output_type": "execute_result",
          "data": {
            "text/plain": [
              "LinearRegression()"
            ]
          },
          "metadata": {},
          "execution_count": 10
        }
      ]
    },
    {
      "cell_type": "code",
      "source": [
        "y_pred_LR = model_LR.predict(X_test)\n",
        "LR_pred_df = pd.DataFrame({'Actual':y_test,'Predicted':y_pred_LR}) \n",
        "LR_pred_df.head()"
      ],
      "metadata": {
        "colab": {
          "base_uri": "https://localhost:8080/",
          "height": 206
        },
        "id": "WAYrPpr0cIgu",
        "outputId": "a1bab416-af30-4296-d1e8-6e46fb04434d"
      },
      "execution_count": null,
      "outputs": [
        {
          "output_type": "execute_result",
          "data": {
            "text/plain": [
              "          Actual     Predicted\n",
              "79  37332.855469  40681.146396\n",
              "80  35040.835938  35325.346179\n",
              "81  41626.195313  36637.838751\n",
              "82  47166.687500  45919.398726\n",
              "83  43790.894531  47771.566528"
            ],
            "text/html": [
              "\n",
              "  <div id=\"df-524c04bd-ffbf-4ba4-b086-1dd7a537be55\">\n",
              "    <div class=\"colab-df-container\">\n",
              "      <div>\n",
              "<style scoped>\n",
              "    .dataframe tbody tr th:only-of-type {\n",
              "        vertical-align: middle;\n",
              "    }\n",
              "\n",
              "    .dataframe tbody tr th {\n",
              "        vertical-align: top;\n",
              "    }\n",
              "\n",
              "    .dataframe thead th {\n",
              "        text-align: right;\n",
              "    }\n",
              "</style>\n",
              "<table border=\"1\" class=\"dataframe\">\n",
              "  <thead>\n",
              "    <tr style=\"text-align: right;\">\n",
              "      <th></th>\n",
              "      <th>Actual</th>\n",
              "      <th>Predicted</th>\n",
              "    </tr>\n",
              "  </thead>\n",
              "  <tbody>\n",
              "    <tr>\n",
              "      <th>79</th>\n",
              "      <td>37332.855469</td>\n",
              "      <td>40681.146396</td>\n",
              "    </tr>\n",
              "    <tr>\n",
              "      <th>80</th>\n",
              "      <td>35040.835938</td>\n",
              "      <td>35325.346179</td>\n",
              "    </tr>\n",
              "    <tr>\n",
              "      <th>81</th>\n",
              "      <td>41626.195313</td>\n",
              "      <td>36637.838751</td>\n",
              "    </tr>\n",
              "    <tr>\n",
              "      <th>82</th>\n",
              "      <td>47166.687500</td>\n",
              "      <td>45919.398726</td>\n",
              "    </tr>\n",
              "    <tr>\n",
              "      <th>83</th>\n",
              "      <td>43790.894531</td>\n",
              "      <td>47771.566528</td>\n",
              "    </tr>\n",
              "  </tbody>\n",
              "</table>\n",
              "</div>\n",
              "      <button class=\"colab-df-convert\" onclick=\"convertToInteractive('df-524c04bd-ffbf-4ba4-b086-1dd7a537be55')\"\n",
              "              title=\"Convert this dataframe to an interactive table.\"\n",
              "              style=\"display:none;\">\n",
              "        \n",
              "  <svg xmlns=\"http://www.w3.org/2000/svg\" height=\"24px\"viewBox=\"0 0 24 24\"\n",
              "       width=\"24px\">\n",
              "    <path d=\"M0 0h24v24H0V0z\" fill=\"none\"/>\n",
              "    <path d=\"M18.56 5.44l.94 2.06.94-2.06 2.06-.94-2.06-.94-.94-2.06-.94 2.06-2.06.94zm-11 1L8.5 8.5l.94-2.06 2.06-.94-2.06-.94L8.5 2.5l-.94 2.06-2.06.94zm10 10l.94 2.06.94-2.06 2.06-.94-2.06-.94-.94-2.06-.94 2.06-2.06.94z\"/><path d=\"M17.41 7.96l-1.37-1.37c-.4-.4-.92-.59-1.43-.59-.52 0-1.04.2-1.43.59L10.3 9.45l-7.72 7.72c-.78.78-.78 2.05 0 2.83L4 21.41c.39.39.9.59 1.41.59.51 0 1.02-.2 1.41-.59l7.78-7.78 2.81-2.81c.8-.78.8-2.07 0-2.86zM5.41 20L4 18.59l7.72-7.72 1.47 1.35L5.41 20z\"/>\n",
              "  </svg>\n",
              "      </button>\n",
              "      \n",
              "  <style>\n",
              "    .colab-df-container {\n",
              "      display:flex;\n",
              "      flex-wrap:wrap;\n",
              "      gap: 12px;\n",
              "    }\n",
              "\n",
              "    .colab-df-convert {\n",
              "      background-color: #E8F0FE;\n",
              "      border: none;\n",
              "      border-radius: 50%;\n",
              "      cursor: pointer;\n",
              "      display: none;\n",
              "      fill: #1967D2;\n",
              "      height: 32px;\n",
              "      padding: 0 0 0 0;\n",
              "      width: 32px;\n",
              "    }\n",
              "\n",
              "    .colab-df-convert:hover {\n",
              "      background-color: #E2EBFA;\n",
              "      box-shadow: 0px 1px 2px rgba(60, 64, 67, 0.3), 0px 1px 3px 1px rgba(60, 64, 67, 0.15);\n",
              "      fill: #174EA6;\n",
              "    }\n",
              "\n",
              "    [theme=dark] .colab-df-convert {\n",
              "      background-color: #3B4455;\n",
              "      fill: #D2E3FC;\n",
              "    }\n",
              "\n",
              "    [theme=dark] .colab-df-convert:hover {\n",
              "      background-color: #434B5C;\n",
              "      box-shadow: 0px 1px 3px 1px rgba(0, 0, 0, 0.15);\n",
              "      filter: drop-shadow(0px 1px 2px rgba(0, 0, 0, 0.3));\n",
              "      fill: #FFFFFF;\n",
              "    }\n",
              "  </style>\n",
              "\n",
              "      <script>\n",
              "        const buttonEl =\n",
              "          document.querySelector('#df-524c04bd-ffbf-4ba4-b086-1dd7a537be55 button.colab-df-convert');\n",
              "        buttonEl.style.display =\n",
              "          google.colab.kernel.accessAllowed ? 'block' : 'none';\n",
              "\n",
              "        async function convertToInteractive(key) {\n",
              "          const element = document.querySelector('#df-524c04bd-ffbf-4ba4-b086-1dd7a537be55');\n",
              "          const dataTable =\n",
              "            await google.colab.kernel.invokeFunction('convertToInteractive',\n",
              "                                                     [key], {});\n",
              "          if (!dataTable) return;\n",
              "\n",
              "          const docLinkHtml = 'Like what you see? Visit the ' +\n",
              "            '<a target=\"_blank\" href=https://colab.research.google.com/notebooks/data_table.ipynb>data table notebook</a>'\n",
              "            + ' to learn more about interactive tables.';\n",
              "          element.innerHTML = '';\n",
              "          dataTable['output_type'] = 'display_data';\n",
              "          await google.colab.output.renderOutput(dataTable, element);\n",
              "          const docLink = document.createElement('div');\n",
              "          docLink.innerHTML = docLinkHtml;\n",
              "          element.appendChild(docLink);\n",
              "        }\n",
              "      </script>\n",
              "    </div>\n",
              "  </div>\n",
              "  "
            ]
          },
          "metadata": {},
          "execution_count": 11
        }
      ]
    },
    {
      "cell_type": "code",
      "source": [
        "from sklearn.metrics import r2_score\n",
        "print(\"Accuracy Score of the Prediction: {0}\".format(r2_score(y_test,y_pred_LR)))\n",
        "Acc.append(r2_score(y_test,y_pred_LR))"
      ],
      "metadata": {
        "colab": {
          "base_uri": "https://localhost:8080/"
        },
        "id": "CIISC5Y_co9e",
        "outputId": "e8045a7c-b5cb-4126-a875-8555c4b96b89"
      },
      "execution_count": null,
      "outputs": [
        {
          "output_type": "stream",
          "name": "stdout",
          "text": [
            "Accuracy Score of the Prediction: 0.9411411256004939\n"
          ]
        }
      ]
    },
    {
      "cell_type": "code",
      "source": [
        "plt.figure(figsize=(10,8))\n",
        "plt.ylabel('Close Price',fontsize=16)\n",
        "plt.plot(LR_pred_df)\n",
        "plt.legend(['Actual Value','Prediction'])\n",
        "plt.show()"
      ],
      "metadata": {
        "colab": {
          "base_uri": "https://localhost:8080/",
          "height": 483
        },
        "id": "cpW4acDSeaAq",
        "outputId": "c9e0fb68-d123-40e2-f61b-8176c705e2f9"
      },
      "execution_count": null,
      "outputs": [
        {
          "output_type": "display_data",
          "data": {
            "text/plain": [
              "<Figure size 720x576 with 1 Axes>"
            ],
            "image/png": "[encoded data removed]"
          },
          "metadata": {
            "needs_background": "light"
          }
        }
      ]
    },
    {
      "cell_type": "markdown",
      "source": [
        "## 2. ANN"
      ],
      "metadata": {
        "id": "Y4SLrwQWfb8z"
      }
    },
    {
      "cell_type": "code",
      "source": [
        "from keras.models import Sequential\n",
        "from keras.layers import Dense \n",
        "\n",
        "def regressor(inp_dim):\n",
        "  model = Sequential()\n",
        "  \n",
        "  # in knn Units: means the amount of neurons, cells or whatever inside the layer\n",
        "  model.add(Dense(20,kernel_initializer='normal',input_dim=inp_dim,activation='relu'))\n",
        "  # layer 01 :->    Dense = neurons, input_dim =                      activation = here activation funcion is relu or sigmoid\n",
        "  model.add(Dense(2,kernel_initializer='normal',activation='relu'))\n",
        "  model.add(Dense(2,kernel_initializer='normal',activation='relu'))\n",
        "  model.add(Dense(1, kernel_initializer='normal'))\n",
        "\n",
        "  model.compile(loss='mean_squared_error',optimizer='adam',metrics=['mean_absolute_error'])\n",
        "  model.summary()\n",
        "  return model\n"
      ],
      "metadata": {
        "id": "OhWSv1_Mfwqu"
      },
      "execution_count": null,
      "outputs": []
    },
    {
      "cell_type": "code",
      "source": [
        "model_2 = regressor(inp_dim=3)\n",
        "model_2.fit(X_train,y_train,epochs=50,validation_split=0.2)"
      ],
      "metadata": {
        "colab": {
          "base_uri": "https://localhost:8080/"
        },
        "id": "S-3XTbZi7WaJ",
        "outputId": "d69638ed-da2f-41ec-98b0-2100bb84f6b0"
      },
      "execution_count": null,
      "outputs": [
        {
          "output_type": "stream",
          "name": "stdout",
          "text": [
            "Model: \"sequential_3\"\n",
            "_________________________________________________________________\n",
            " Layer (type)                Output Shape              Param #   \n",
            "=================================================================\n",
            " dense_11 (Dense)            (None, 20)                80        \n",
            "                                                                 \n",
            " dense_12 (Dense)            (None, 2)                 42        \n",
            "                                                                 \n",
            " dense_13 (Dense)            (None, 2)                 6         \n",
            "                                                                 \n",
            " dense_14 (Dense)            (None, 1)                 3         \n",
            "                                                                 \n",
            "=================================================================\n",
            "Total params: 131\n",
            "Trainable params: 131\n",
            "Non-trainable params: 0\n",
            "_________________________________________________________________\n",
            "Epoch 1/50\n",
            "2/2 [==============================] - 1s 269ms/step - loss: 28670914.0000 - mean_absolute_error: 3776.9861 - val_loss: 761779456.0000 - val_mean_absolute_error: 21422.7969\n",
            "Epoch 2/50\n",
            "2/2 [==============================] - 0s 67ms/step - loss: 28670898.0000 - mean_absolute_error: 3776.9841 - val_loss: 761779328.0000 - val_mean_absolute_error: 21422.7930\n",
            "Epoch 3/50\n",
            "2/2 [==============================] - 0s 55ms/step - loss: 28670882.0000 - mean_absolute_error: 3776.9819 - val_loss: 761779200.0000 - val_mean_absolute_error: 21422.7910\n",
            "Epoch 4/50\n",
            "2/2 [==============================] - 0s 69ms/step - loss: 28670862.0000 - mean_absolute_error: 3776.9797 - val_loss: 761779200.0000 - val_mean_absolute_error: 21422.7891\n",
            "Epoch 5/50\n",
            "2/2 [==============================] - 0s 76ms/step - loss: 28670848.0000 - mean_absolute_error: 3776.9778 - val_loss: 761779072.0000 - val_mean_absolute_error: 21422.7871\n",
            "Epoch 6/50\n",
            "2/2 [==============================] - 0s 87ms/step - loss: 28670834.0000 - mean_absolute_error: 3776.9756 - val_loss: 761779008.0000 - val_mean_absolute_error: 21422.7852\n",
            "Epoch 7/50\n",
            "2/2 [==============================] - 0s 85ms/step - loss: 28670818.0000 - mean_absolute_error: 3776.9734 - val_loss: 761778880.0000 - val_mean_absolute_error: 21422.7812\n",
            "Epoch 8/50\n",
            "2/2 [==============================] - 0s 79ms/step - loss: 28670802.0000 - mean_absolute_error: 3776.9712 - val_loss: 761778816.0000 - val_mean_absolute_error: 21422.7812\n",
            "Epoch 9/50\n",
            "2/2 [==============================] - 0s 92ms/step - loss: 28670786.0000 - mean_absolute_error: 3776.9692 - val_loss: 761778752.0000 - val_mean_absolute_error: 21422.7773\n",
            "Epoch 10/50\n",
            "2/2 [==============================] - 0s 81ms/step - loss: 28670764.0000 - mean_absolute_error: 3776.9668 - val_loss: 761778560.0000 - val_mean_absolute_error: 21422.7754\n",
            "Epoch 11/50\n",
            "2/2 [==============================] - 0s 91ms/step - loss: 28670752.0000 - mean_absolute_error: 3776.9648 - val_loss: 761778560.0000 - val_mean_absolute_error: 21422.7734\n",
            "Epoch 12/50\n",
            "2/2 [==============================] - 0s 39ms/step - loss: 28670734.0000 - mean_absolute_error: 3776.9624 - val_loss: 761778432.0000 - val_mean_absolute_error: 21422.7715\n",
            "Epoch 13/50\n",
            "2/2 [==============================] - 0s 83ms/step - loss: 28670716.0000 - mean_absolute_error: 3776.9602 - val_loss: 761778304.0000 - val_mean_absolute_error: 21422.7695\n",
            "Epoch 14/50\n",
            "2/2 [==============================] - 0s 84ms/step - loss: 28670700.0000 - mean_absolute_error: 3776.9580 - val_loss: 761778176.0000 - val_mean_absolute_error: 21422.7656\n",
            "Epoch 15/50\n",
            "2/2 [==============================] - 0s 56ms/step - loss: 28670684.0000 - mean_absolute_error: 3776.9553 - val_loss: 761778048.0000 - val_mean_absolute_error: 21422.7656\n",
            "Epoch 16/50\n",
            "2/2 [==============================] - 0s 34ms/step - loss: 28670666.0000 - mean_absolute_error: 3776.9534 - val_loss: 761778048.0000 - val_mean_absolute_error: 21422.7617\n",
            "Epoch 17/50\n",
            "2/2 [==============================] - 0s 80ms/step - loss: 28670646.0000 - mean_absolute_error: 3776.9509 - val_loss: 761777920.0000 - val_mean_absolute_error: 21422.7598\n",
            "Epoch 18/50\n",
            "2/2 [==============================] - 0s 58ms/step - loss: 28670626.0000 - mean_absolute_error: 3776.9485 - val_loss: 761777792.0000 - val_mean_absolute_error: 21422.7578\n",
            "Epoch 19/50\n",
            "2/2 [==============================] - 0s 57ms/step - loss: 28670610.0000 - mean_absolute_error: 3776.9463 - val_loss: 761777664.0000 - val_mean_absolute_error: 21422.7539\n",
            "Epoch 20/50\n",
            "2/2 [==============================] - 0s 36ms/step - loss: 28670592.0000 - mean_absolute_error: 3776.9436 - val_loss: 761777536.0000 - val_mean_absolute_error: 21422.7520\n",
            "Epoch 21/50\n",
            "2/2 [==============================] - 0s 25ms/step - loss: 28670576.0000 - mean_absolute_error: 3776.9414 - val_loss: 761777408.0000 - val_mean_absolute_error: 21422.7500\n",
            "Epoch 22/50\n",
            "2/2 [==============================] - 0s 19ms/step - loss: 28670554.0000 - mean_absolute_error: 3776.9385 - val_loss: 761777344.0000 - val_mean_absolute_error: 21422.7461\n",
            "Epoch 23/50\n",
            "2/2 [==============================] - 0s 19ms/step - loss: 28670534.0000 - mean_absolute_error: 3776.9360 - val_loss: 761777280.0000 - val_mean_absolute_error: 21422.7441\n",
            "Epoch 24/50\n",
            "2/2 [==============================] - 0s 19ms/step - loss: 28670516.0000 - mean_absolute_error: 3776.9336 - val_loss: 761777152.0000 - val_mean_absolute_error: 21422.7422\n",
            "Epoch 25/50\n",
            "2/2 [==============================] - 0s 23ms/step - loss: 28670494.0000 - mean_absolute_error: 3776.9312 - val_loss: 761777088.0000 - val_mean_absolute_error: 21422.7383\n",
            "Epoch 26/50\n",
            "2/2 [==============================] - 0s 23ms/step - loss: 28670476.0000 - mean_absolute_error: 3776.9285 - val_loss: 761776896.0000 - val_mean_absolute_error: 21422.7363\n",
            "Epoch 27/50\n",
            "2/2 [==============================] - 0s 25ms/step - loss: 28670456.0000 - mean_absolute_error: 3776.9258 - val_loss: 761776768.0000 - val_mean_absolute_error: 21422.7344\n",
            "Epoch 28/50\n",
            "2/2 [==============================] - 0s 25ms/step - loss: 28670436.0000 - mean_absolute_error: 3776.9231 - val_loss: 761776640.0000 - val_mean_absolute_error: 21422.7305\n",
            "Epoch 29/50\n",
            "2/2 [==============================] - 0s 28ms/step - loss: 28670416.0000 - mean_absolute_error: 3776.9202 - val_loss: 761776512.0000 - val_mean_absolute_error: 21422.7266\n",
            "Epoch 30/50\n",
            "2/2 [==============================] - 0s 24ms/step - loss: 28670390.0000 - mean_absolute_error: 3776.9175 - val_loss: 761776384.0000 - val_mean_absolute_error: 21422.7246\n",
            "Epoch 31/50\n",
            "2/2 [==============================] - 0s 24ms/step - loss: 28670370.0000 - mean_absolute_error: 3776.9148 - val_loss: 761776256.0000 - val_mean_absolute_error: 21422.7227\n",
            "Epoch 32/50\n",
            "2/2 [==============================] - 0s 31ms/step - loss: 28670346.0000 - mean_absolute_error: 3776.9116 - val_loss: 761776128.0000 - val_mean_absolute_error: 21422.7188\n",
            "Epoch 33/50\n",
            "2/2 [==============================] - 0s 26ms/step - loss: 28670328.0000 - mean_absolute_error: 3776.9089 - val_loss: 761775936.0000 - val_mean_absolute_error: 21422.7148\n",
            "Epoch 34/50\n",
            "2/2 [==============================] - 0s 20ms/step - loss: 28670302.0000 - mean_absolute_error: 3776.9058 - val_loss: 761775744.0000 - val_mean_absolute_error: 21422.7109\n",
            "Epoch 35/50\n",
            "2/2 [==============================] - 0s 40ms/step - loss: 28670278.0000 - mean_absolute_error: 3776.9028 - val_loss: 761775616.0000 - val_mean_absolute_error: 21422.7070\n",
            "Epoch 36/50\n",
            "2/2 [==============================] - 0s 21ms/step - loss: 28670254.0000 - mean_absolute_error: 3776.8999 - val_loss: 761775488.0000 - val_mean_absolute_error: 21422.7031\n",
            "Epoch 37/50\n",
            "2/2 [==============================] - 0s 28ms/step - loss: 28670230.0000 - mean_absolute_error: 3776.8962 - val_loss: 761775360.0000 - val_mean_absolute_error: 21422.7012\n",
            "Epoch 38/50\n",
            "2/2 [==============================] - 0s 23ms/step - loss: 28670204.0000 - mean_absolute_error: 3776.8928 - val_loss: 761775104.0000 - val_mean_absolute_error: 21422.6973\n",
            "Epoch 39/50\n",
            "2/2 [==============================] - 0s 20ms/step - loss: 28670178.0000 - mean_absolute_error: 3776.8899 - val_loss: 761774976.0000 - val_mean_absolute_error: 21422.6953\n",
            "Epoch 40/50\n",
            "2/2 [==============================] - 0s 21ms/step - loss: 28670154.0000 - mean_absolute_error: 3776.8865 - val_loss: 761774848.0000 - val_mean_absolute_error: 21422.6914\n",
            "Epoch 41/50\n",
            "2/2 [==============================] - 0s 26ms/step - loss: 28670126.0000 - mean_absolute_error: 3776.8831 - val_loss: 761774592.0000 - val_mean_absolute_error: 21422.6875\n",
            "Epoch 42/50\n",
            "2/2 [==============================] - 0s 23ms/step - loss: 28670098.0000 - mean_absolute_error: 3776.8794 - val_loss: 761774464.0000 - val_mean_absolute_error: 21422.6836\n",
            "Epoch 43/50\n",
            "2/2 [==============================] - 0s 23ms/step - loss: 28670070.0000 - mean_absolute_error: 3776.8755 - val_loss: 761774208.0000 - val_mean_absolute_error: 21422.6777\n",
            "Epoch 44/50\n",
            "2/2 [==============================] - 0s 20ms/step - loss: 28670042.0000 - mean_absolute_error: 3776.8718 - val_loss: 761774016.0000 - val_mean_absolute_error: 21422.6719\n",
            "Epoch 45/50\n",
            "2/2 [==============================] - 0s 22ms/step - loss: 28670012.0000 - mean_absolute_error: 3776.8682 - val_loss: 761773824.0000 - val_mean_absolute_error: 21422.6680\n",
            "Epoch 46/50\n",
            "2/2 [==============================] - 0s 23ms/step - loss: 28669980.0000 - mean_absolute_error: 3776.8640 - val_loss: 761773568.0000 - val_mean_absolute_error: 21422.6641\n",
            "Epoch 47/50\n",
            "2/2 [==============================] - 0s 20ms/step - loss: 28669948.0000 - mean_absolute_error: 3776.8601 - val_loss: 761773440.0000 - val_mean_absolute_error: 21422.6602\n",
            "Epoch 48/50\n",
            "2/2 [==============================] - 0s 30ms/step - loss: 28669914.0000 - mean_absolute_error: 3776.8562 - val_loss: 761773056.0000 - val_mean_absolute_error: 21422.6543\n",
            "Epoch 49/50\n",
            "2/2 [==============================] - 0s 23ms/step - loss: 28669882.0000 - mean_absolute_error: 3776.8518 - val_loss: 761772928.0000 - val_mean_absolute_error: 21422.6484\n",
            "Epoch 50/50\n",
            "2/2 [==============================] - 0s 19ms/step - loss: 28669850.0000 - mean_absolute_error: 3776.8472 - val_loss: 761772608.0000 - val_mean_absolute_error: 21422.6445\n"
          ]
        },
        {
          "output_type": "execute_result",
          "data": {
            "text/plain": [
              "<keras.callbacks.History at 0x7f5986277100>"
            ]
          },
          "metadata": {},
          "execution_count": 39
        }
      ]
    },
    {
      "cell_type": "code",
      "source": [
        "y_pred_ann = model_2.predict(X_test)\n",
        "\n",
        "pred_df_ann = pd.DataFrame({'Actual':y_test,'Predicted':y_pred_ann.flatten()})"
      ],
      "metadata": {
        "colab": {
          "base_uri": "https://localhost:8080/",
          "height": 398
        },
        "id": "jo6e3rTY8TwI",
        "outputId": "9ed39f42-fe79-4ce7-edbb-968a79f085b2"
      },
      "execution_count": null,
      "outputs": [
        {
          "output_type": "stream",
          "name": "stdout",
          "text": [
            "1/1 [==============================] - 0s 79ms/step\n"
          ]
        },
        {
          "output_type": "error",
          "ename": "ValueError",
          "evalue": "ignored",
          "traceback": [
            "\u001b[0;31m---------------------------------------------------------------------------\u001b[0m",
            "\u001b[0;31mValueError\u001b[0m                                Traceback (most recent call last)",
            "\u001b[0;32m<ipython-input-17-f9cde51bab94>\u001b[0m in \u001b[0;36m<module>\u001b[0;34m\u001b[0m\n\u001b[1;32m      1\u001b[0m \u001b[0my_pred_ann\u001b[0m \u001b[0;34m=\u001b[0m \u001b[0mmodel_2\u001b[0m\u001b[0;34m.\u001b[0m\u001b[0mpredict\u001b[0m\u001b[0;34m(\u001b[0m\u001b[0mX_test\u001b[0m\u001b[0;34m)\u001b[0m\u001b[0;34m\u001b[0m\u001b[0;34m\u001b[0m\u001b[0m\n\u001b[1;32m      2\u001b[0m \u001b[0;34m\u001b[0m\u001b[0m\n\u001b[0;32m----> 3\u001b[0;31m \u001b[0mpred_df_ann\u001b[0m \u001b[0;34m=\u001b[0m \u001b[0mpd\u001b[0m\u001b[0;34m.\u001b[0m\u001b[0mDataFrame\u001b[0m\u001b[0;34m(\u001b[0m\u001b[0;34m{\u001b[0m\u001b[0;34m'Actual'\u001b[0m\u001b[0;34m:\u001b[0m\u001b[0my_test\u001b[0m\u001b[0;34m,\u001b[0m\u001b[0;34m'Predicted'\u001b[0m\u001b[0;34m:\u001b[0m\u001b[0my_pred_ann\u001b[0m\u001b[0;34m.\u001b[0m\u001b[0mflatten\u001b[0m\u001b[0;34m(\u001b[0m\u001b[0;34m)\u001b[0m\u001b[0;34m}\u001b[0m\u001b[0;34m)\u001b[0m\u001b[0;34m\u001b[0m\u001b[0;34m\u001b[0m\u001b[0m\n\u001b[0m",
            "\u001b[0;32m/usr/local/lib/python3.8/dist-packages/pandas/core/frame.py\u001b[0m in \u001b[0;36m__init__\u001b[0;34m(self, data, index, columns, dtype, copy)\u001b[0m\n\u001b[1;32m    612\u001b[0m         \u001b[0;32melif\u001b[0m \u001b[0misinstance\u001b[0m\u001b[0;34m(\u001b[0m\u001b[0mdata\u001b[0m\u001b[0;34m,\u001b[0m \u001b[0mdict\u001b[0m\u001b[0;34m)\u001b[0m\u001b[0;34m:\u001b[0m\u001b[0;34m\u001b[0m\u001b[0;34m\u001b[0m\u001b[0m\n\u001b[1;32m    613\u001b[0m             \u001b[0;31m# GH#38939 de facto copy defaults to False only in non-dict cases\u001b[0m\u001b[0;34m\u001b[0m\u001b[0;34m\u001b[0m\u001b[0;34m\u001b[0m\u001b[0m\n\u001b[0;32m--> 614\u001b[0;31m             \u001b[0mmgr\u001b[0m \u001b[0;34m=\u001b[0m \u001b[0mdict_to_mgr\u001b[0m\u001b[0;34m(\u001b[0m\u001b[0mdata\u001b[0m\u001b[0;34m,\u001b[0m \u001b[0mindex\u001b[0m\u001b[0;34m,\u001b[0m \u001b[0mcolumns\u001b[0m\u001b[0;34m,\u001b[0m \u001b[0mdtype\u001b[0m\u001b[0;34m=\u001b[0m\u001b[0mdtype\u001b[0m\u001b[0;34m,\u001b[0m \u001b[0mcopy\u001b[0m\u001b[0;34m=\u001b[0m\u001b[0mcopy\u001b[0m\u001b[0;34m,\u001b[0m \u001b[0mtyp\u001b[0m\u001b[0;34m=\u001b[0m\u001b[0mmanager\u001b[0m\u001b[0;34m)\u001b[0m\u001b[0;34m\u001b[0m\u001b[0;34m\u001b[0m\u001b[0m\n\u001b[0m\u001b[1;32m    615\u001b[0m         \u001b[0;32melif\u001b[0m \u001b[0misinstance\u001b[0m\u001b[0;34m(\u001b[0m\u001b[0mdata\u001b[0m\u001b[0;34m,\u001b[0m \u001b[0mma\u001b[0m\u001b[0;34m.\u001b[0m\u001b[0mMaskedArray\u001b[0m\u001b[0;34m)\u001b[0m\u001b[0;34m:\u001b[0m\u001b[0;34m\u001b[0m\u001b[0;34m\u001b[0m\u001b[0m\n\u001b[1;32m    616\u001b[0m             \u001b[0;32mimport\u001b[0m \u001b[0mnumpy\u001b[0m\u001b[0;34m.\u001b[0m\u001b[0mma\u001b[0m\u001b[0;34m.\u001b[0m\u001b[0mmrecords\u001b[0m \u001b[0;32mas\u001b[0m \u001b[0mmrecords\u001b[0m\u001b[0;34m\u001b[0m\u001b[0;34m\u001b[0m\u001b[0m\n",
            "\u001b[0;32m/usr/local/lib/python3.8/dist-packages/pandas/core/internals/construction.py\u001b[0m in \u001b[0;36mdict_to_mgr\u001b[0;34m(data, index, columns, dtype, typ, copy)\u001b[0m\n\u001b[1;32m    462\u001b[0m         \u001b[0;31m# TODO: can we get rid of the dt64tz special case above?\u001b[0m\u001b[0;34m\u001b[0m\u001b[0;34m\u001b[0m\u001b[0;34m\u001b[0m\u001b[0m\n\u001b[1;32m    463\u001b[0m \u001b[0;34m\u001b[0m\u001b[0m\n\u001b[0;32m--> 464\u001b[0;31m     return arrays_to_mgr(\n\u001b[0m\u001b[1;32m    465\u001b[0m         \u001b[0marrays\u001b[0m\u001b[0;34m,\u001b[0m \u001b[0mdata_names\u001b[0m\u001b[0;34m,\u001b[0m \u001b[0mindex\u001b[0m\u001b[0;34m,\u001b[0m \u001b[0mcolumns\u001b[0m\u001b[0;34m,\u001b[0m \u001b[0mdtype\u001b[0m\u001b[0;34m=\u001b[0m\u001b[0mdtype\u001b[0m\u001b[0;34m,\u001b[0m \u001b[0mtyp\u001b[0m\u001b[0;34m=\u001b[0m\u001b[0mtyp\u001b[0m\u001b[0;34m,\u001b[0m \u001b[0mconsolidate\u001b[0m\u001b[0;34m=\u001b[0m\u001b[0mcopy\u001b[0m\u001b[0;34m\u001b[0m\u001b[0;34m\u001b[0m\u001b[0m\n\u001b[1;32m    466\u001b[0m     )\n",
            "\u001b[0;32m/usr/local/lib/python3.8/dist-packages/pandas/core/internals/construction.py\u001b[0m in \u001b[0;36marrays_to_mgr\u001b[0;34m(arrays, arr_names, index, columns, dtype, verify_integrity, typ, consolidate)\u001b[0m\n\u001b[1;32m    117\u001b[0m         \u001b[0;31m# figure out the index, if necessary\u001b[0m\u001b[0;34m\u001b[0m\u001b[0;34m\u001b[0m\u001b[0;34m\u001b[0m\u001b[0m\n\u001b[1;32m    118\u001b[0m         \u001b[0;32mif\u001b[0m \u001b[0mindex\u001b[0m \u001b[0;32mis\u001b[0m \u001b[0;32mNone\u001b[0m\u001b[0;34m:\u001b[0m\u001b[0;34m\u001b[0m\u001b[0;34m\u001b[0m\u001b[0m\n\u001b[0;32m--> 119\u001b[0;31m             \u001b[0mindex\u001b[0m \u001b[0;34m=\u001b[0m \u001b[0m_extract_index\u001b[0m\u001b[0;34m(\u001b[0m\u001b[0marrays\u001b[0m\u001b[0;34m)\u001b[0m\u001b[0;34m\u001b[0m\u001b[0;34m\u001b[0m\u001b[0m\n\u001b[0m\u001b[1;32m    120\u001b[0m         \u001b[0;32melse\u001b[0m\u001b[0;34m:\u001b[0m\u001b[0;34m\u001b[0m\u001b[0;34m\u001b[0m\u001b[0m\n\u001b[1;32m    121\u001b[0m             \u001b[0mindex\u001b[0m \u001b[0;34m=\u001b[0m \u001b[0mensure_index\u001b[0m\u001b[0;34m(\u001b[0m\u001b[0mindex\u001b[0m\u001b[0;34m)\u001b[0m\u001b[0;34m\u001b[0m\u001b[0;34m\u001b[0m\u001b[0m\n",
            "\u001b[0;32m/usr/local/lib/python3.8/dist-packages/pandas/core/internals/construction.py\u001b[0m in \u001b[0;36m_extract_index\u001b[0;34m(data)\u001b[0m\n\u001b[1;32m    647\u001b[0m                         \u001b[0;34mf\"length {len(index)}\"\u001b[0m\u001b[0;34m\u001b[0m\u001b[0;34m\u001b[0m\u001b[0m\n\u001b[1;32m    648\u001b[0m                     )\n\u001b[0;32m--> 649\u001b[0;31m                     \u001b[0;32mraise\u001b[0m \u001b[0mValueError\u001b[0m\u001b[0;34m(\u001b[0m\u001b[0mmsg\u001b[0m\u001b[0;34m)\u001b[0m\u001b[0;34m\u001b[0m\u001b[0;34m\u001b[0m\u001b[0m\n\u001b[0m\u001b[1;32m    650\u001b[0m             \u001b[0;32melse\u001b[0m\u001b[0;34m:\u001b[0m\u001b[0;34m\u001b[0m\u001b[0;34m\u001b[0m\u001b[0m\n\u001b[1;32m    651\u001b[0m                 \u001b[0mindex\u001b[0m \u001b[0;34m=\u001b[0m \u001b[0mibase\u001b[0m\u001b[0;34m.\u001b[0m\u001b[0mdefault_index\u001b[0m\u001b[0;34m(\u001b[0m\u001b[0mlengths\u001b[0m\u001b[0;34m[\u001b[0m\u001b[0;36m0\u001b[0m\u001b[0;34m]\u001b[0m\u001b[0;34m)\u001b[0m\u001b[0;34m\u001b[0m\u001b[0;34m\u001b[0m\u001b[0m\n",
            "\u001b[0;31mValueError\u001b[0m: array length 200 does not match index length 20"
          ]
        }
      ]
    },
    {
      "cell_type": "code",
      "source": [
        "from sklearn.metrics import r2_score\n",
        "print(\"Accuracy Score of The Predictions: {0}\".format(r2_score(y_test,y_pred_ann)))\n",
        "Acc.append(r2_score(y_test,y_pred_ann))\n"
      ],
      "metadata": {
        "id": "guBTcA6v7_cI"
      },
      "execution_count": null,
      "outputs": []
    },
    {
      "cell_type": "code",
      "source": [
        "plt.figure(figsize=(8,8))\n",
        "plt.ylabel('Close Price', fontsize=16)\n",
        "plt.plot(pred_df_ann)\n",
        "plt.legend(['Actual Value', 'Predictions'])\n",
        "plt.show()"
      ],
      "metadata": {
        "id": "gaql6Dro9HiF"
      },
      "execution_count": null,
      "outputs": []
    },
    {
      "cell_type": "markdown",
      "source": [
        "## 3. Support Vector Machine"
      ],
      "metadata": {
        "id": "HtJ1jytc-M5B"
      }
    },
    {
      "cell_type": "code",
      "source": [
        "# from sklearn.linear_model import LogisticRegression\n",
        "# logreg = LogisticRegression()\n",
        "# logreg.fit(X_train,y_train)\n",
        "# y_pred_log = logreg.predict(X_test)\n",
        "# acc_log = round(logreg.score(X_train,y_train)*100,2)\n",
        "# acc_log"
      ],
      "metadata": {
        "id": "tpnn-5wr-S6t"
      },
      "execution_count": null,
      "outputs": []
    },
    {
      "cell_type": "code",
      "source": [
        "from sklearn.svm import SVR\n",
        "svr = SVR(kernel = 'linear')\n",
        "svr.fit(X_train,y_train)\n",
        "y_pred_svr = svr.predict(X_test)"
      ],
      "metadata": {
        "id": "AvW11PaqDU5V"
      },
      "execution_count": null,
      "outputs": []
    },
    {
      "cell_type": "code",
      "source": [
        "svr_pred_df = pd.DataFrame({'Actual':y_test,'Predicted':y_pred_svr}) \n",
        "svr_pred_df.head()"
      ],
      "metadata": {
        "colab": {
          "base_uri": "https://localhost:8080/",
          "height": 206
        },
        "id": "n8LsaoinD6Dm",
        "outputId": "a403a6e1-b81d-461c-86f0-1cbc039ffd6f"
      },
      "execution_count": null,
      "outputs": [
        {
          "output_type": "execute_result",
          "data": {
            "text/plain": [
              "          Actual    Predicted\n",
              "79  37332.855469  4355.199315\n",
              "80  35040.835938  4350.381268\n",
              "81  41626.195313  4350.295857\n",
              "82  47166.687500  4353.129249\n",
              "83  43790.894531  4354.384384"
            ],
            "text/html": [
              "\n",
              "  <div id=\"df-5af10a73-9251-40f4-87da-744140dbef84\">\n",
              "    <div class=\"colab-df-container\">\n",
              "      <div>\n",
              "<style scoped>\n",
              "    .dataframe tbody tr th:only-of-type {\n",
              "        vertical-align: middle;\n",
              "    }\n",
              "\n",
              "    .dataframe tbody tr th {\n",
              "        vertical-align: top;\n",
              "    }\n",
              "\n",
              "    .dataframe thead th {\n",
              "        text-align: right;\n",
              "    }\n",
              "</style>\n",
              "<table border=\"1\" class=\"dataframe\">\n",
              "  <thead>\n",
              "    <tr style=\"text-align: right;\">\n",
              "      <th></th>\n",
              "      <th>Actual</th>\n",
              "      <th>Predicted</th>\n",
              "    </tr>\n",
              "  </thead>\n",
              "  <tbody>\n",
              "    <tr>\n",
              "      <th>79</th>\n",
              "      <td>37332.855469</td>\n",
              "      <td>4355.199315</td>\n",
              "    </tr>\n",
              "    <tr>\n",
              "      <th>80</th>\n",
              "      <td>35040.835938</td>\n",
              "      <td>4350.381268</td>\n",
              "    </tr>\n",
              "    <tr>\n",
              "      <th>81</th>\n",
              "      <td>41626.195313</td>\n",
              "      <td>4350.295857</td>\n",
              "    </tr>\n",
              "    <tr>\n",
              "      <th>82</th>\n",
              "      <td>47166.687500</td>\n",
              "      <td>4353.129249</td>\n",
              "    </tr>\n",
              "    <tr>\n",
              "      <th>83</th>\n",
              "      <td>43790.894531</td>\n",
              "      <td>4354.384384</td>\n",
              "    </tr>\n",
              "  </tbody>\n",
              "</table>\n",
              "</div>\n",
              "      <button class=\"colab-df-convert\" onclick=\"convertToInteractive('df-5af10a73-9251-40f4-87da-744140dbef84')\"\n",
              "              title=\"Convert this dataframe to an interactive table.\"\n",
              "              style=\"display:none;\">\n",
              "        \n",
              "  <svg xmlns=\"http://www.w3.org/2000/svg\" height=\"24px\"viewBox=\"0 0 24 24\"\n",
              "       width=\"24px\">\n",
              "    <path d=\"M0 0h24v24H0V0z\" fill=\"none\"/>\n",
              "    <path d=\"M18.56 5.44l.94 2.06.94-2.06 2.06-.94-2.06-.94-.94-2.06-.94 2.06-2.06.94zm-11 1L8.5 8.5l.94-2.06 2.06-.94-2.06-.94L8.5 2.5l-.94 2.06-2.06.94zm10 10l.94 2.06.94-2.06 2.06-.94-2.06-.94-.94-2.06-.94 2.06-2.06.94z\"/><path d=\"M17.41 7.96l-1.37-1.37c-.4-.4-.92-.59-1.43-.59-.52 0-1.04.2-1.43.59L10.3 9.45l-7.72 7.72c-.78.78-.78 2.05 0 2.83L4 21.41c.39.39.9.59 1.41.59.51 0 1.02-.2 1.41-.59l7.78-7.78 2.81-2.81c.8-.78.8-2.07 0-2.86zM5.41 20L4 18.59l7.72-7.72 1.47 1.35L5.41 20z\"/>\n",
              "  </svg>\n",
              "      </button>\n",
              "      \n",
              "  <style>\n",
              "    .colab-df-container {\n",
              "      display:flex;\n",
              "      flex-wrap:wrap;\n",
              "      gap: 12px;\n",
              "    }\n",
              "\n",
              "    .colab-df-convert {\n",
              "      background-color: #E8F0FE;\n",
              "      border: none;\n",
              "      border-radius: 50%;\n",
              "      cursor: pointer;\n",
              "      display: none;\n",
              "      fill: #1967D2;\n",
              "      height: 32px;\n",
              "      padding: 0 0 0 0;\n",
              "      width: 32px;\n",
              "    }\n",
              "\n",
              "    .colab-df-convert:hover {\n",
              "      background-color: #E2EBFA;\n",
              "      box-shadow: 0px 1px 2px rgba(60, 64, 67, 0.3), 0px 1px 3px 1px rgba(60, 64, 67, 0.15);\n",
              "      fill: #174EA6;\n",
              "    }\n",
              "\n",
              "    [theme=dark] .colab-df-convert {\n",
              "      background-color: #3B4455;\n",
              "      fill: #D2E3FC;\n",
              "    }\n",
              "\n",
              "    [theme=dark] .colab-df-convert:hover {\n",
              "      background-color: #434B5C;\n",
              "      box-shadow: 0px 1px 3px 1px rgba(0, 0, 0, 0.15);\n",
              "      filter: drop-shadow(0px 1px 2px rgba(0, 0, 0, 0.3));\n",
              "      fill: #FFFFFF;\n",
              "    }\n",
              "  </style>\n",
              "\n",
              "      <script>\n",
              "        const buttonEl =\n",
              "          document.querySelector('#df-5af10a73-9251-40f4-87da-744140dbef84 button.colab-df-convert');\n",
              "        buttonEl.style.display =\n",
              "          google.colab.kernel.accessAllowed ? 'block' : 'none';\n",
              "\n",
              "        async function convertToInteractive(key) {\n",
              "          const element = document.querySelector('#df-5af10a73-9251-40f4-87da-744140dbef84');\n",
              "          const dataTable =\n",
              "            await google.colab.kernel.invokeFunction('convertToInteractive',\n",
              "                                                     [key], {});\n",
              "          if (!dataTable) return;\n",
              "\n",
              "          const docLinkHtml = 'Like what you see? Visit the ' +\n",
              "            '<a target=\"_blank\" href=https://colab.research.google.com/notebooks/data_table.ipynb>data table notebook</a>'\n",
              "            + ' to learn more about interactive tables.';\n",
              "          element.innerHTML = '';\n",
              "          dataTable['output_type'] = 'display_data';\n",
              "          await google.colab.output.renderOutput(dataTable, element);\n",
              "          const docLink = document.createElement('div');\n",
              "          docLink.innerHTML = docLinkHtml;\n",
              "          element.appendChild(docLink);\n",
              "        }\n",
              "      </script>\n",
              "    </div>\n",
              "  </div>\n",
              "  "
            ]
          },
          "metadata": {},
          "execution_count": 29
        }
      ]
    },
    {
      "cell_type": "code",
      "source": [
        "plt.figure(figsize=(10,8))\n",
        "plt.ylabel('Close Price',fontsize=16)\n",
        "plt.plot(svr_pred_df)\n",
        "plt.legend(['Actual Value','Prediction'])\n",
        "plt.show()"
      ],
      "metadata": {
        "colab": {
          "base_uri": "https://localhost:8080/",
          "height": 483
        },
        "id": "WZFcC59qEIoM",
        "outputId": "053a070b-bdd1-40ec-9f0a-cefc1df82403"
      },
      "execution_count": null,
      "outputs": [
        {
          "output_type": "display_data",
          "data": {
            "text/plain": [
              "<Figure size 720x576 with 1 Axes>"
            ],
            "image/png": "[encoded data removed]"
          },
          "metadata": {
            "needs_background": "light"
          }
        }
      ]
    },
    {
      "cell_type": "code",
      "source": [],
      "metadata": {
        "id": "VbHxzNFogdQA"
      },
      "execution_count": null,
      "outputs": []
    },
    {
      "cell_type": "code",
      "source": [
        "from sklearn.metrics import r2_score\n",
        "print(\"Accuracy Score of the Prediction: {0}\".format(round(r2_score(y_test,y_pred_LR)*100,2)))\n",
        "Acc.append(round(r2_score(y_test,y_pred_LR)*100,2))"
      ],
      "metadata": {
        "id": "_BPWRDxvElfu",
        "outputId": "650ffef2-b898-4e85-c780-e3d9f75e5369",
        "colab": {
          "base_uri": "https://localhost:8080/"
        }
      },
      "execution_count": null,
      "outputs": [
        {
          "output_type": "stream",
          "name": "stdout",
          "text": [
            "Accuracy Score of the Prediction: 94.11\n"
          ]
        }
      ]
    },
    {
      "cell_type": "code",
      "source": [
        "from sklearn.tree import DecisionTreeRegressor\n",
        "\n",
        "regr = DecisionTreeRegressor(max_depth=4)\n",
        "regr.fit(X_train,y_train)\n",
        "y_pred_regr = regr.predict(X_test)"
      ],
      "metadata": {
        "id": "-OUm-7I_glQZ"
      },
      "execution_count": null,
      "outputs": []
    },
    {
      "cell_type": "code",
      "source": [
        "regr_pred_df = pd.DataFrame({'Actual':y_test,'Predicted':y_pred_regr}) \n"
      ],
      "metadata": {
        "id": "pEQ_7dqXg_6g"
      },
      "execution_count": null,
      "outputs": []
    },
    {
      "cell_type": "code",
      "source": [
        "plt.figure(figsize=(10,8))\n",
        "plt.ylabel('Close Price',fontsize=16)\n",
        "plt.plot(regr_pred_df)\n",
        "plt.legend(['Actual Value','Prediction'])\n",
        "plt.show()\n",
        "from sklearn.metrics import r2_score\n",
        "print(\"Accuracy Score of the Prediction: {0}\".format(r2_score(y_test,y_pred_regr)))\n",
        "Acc.append(r2_score(y_test,y_pred_regr))"
      ],
      "metadata": {
        "colab": {
          "base_uri": "https://localhost:8080/",
          "height": 500
        },
        "id": "clcPS_GYhFy8",
        "outputId": "ad3d2da9-a260-491c-833d-9c0482247cec"
      },
      "execution_count": null,
      "outputs": [
        {
          "output_type": "display_data",
          "data": {
            "text/plain": [
              "<Figure size 720x576 with 1 Axes>"
            ],
            "image/png": "[encoded data removed]"
          },
          "metadata": {
            "needs_background": "light"
          }
        },
        {
          "output_type": "stream",
          "name": "stdout",
          "text": [
            "Accuracy Score of the Prediction: 0.8707813101380872\n"
          ]
        }
      ]
    }
  ]
}
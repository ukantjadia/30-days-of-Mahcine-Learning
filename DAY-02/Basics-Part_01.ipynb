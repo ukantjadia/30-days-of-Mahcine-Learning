{
 "cells": [
  {
   "cell_type": "code",
   "execution_count": 2,
   "id": "28fe885d",
   "metadata": {},
   "outputs": [],
   "source": [
    "# importing the libraries\n",
    "\n",
    "import pandas as pd\n",
    "import numpy as np\n",
    "import random \n",
    "from numpy import random as rnn"
   ]
  },
  {
   "cell_type": "markdown",
   "id": "7f8bd529",
   "metadata": {},
   "source": [
    "# Random Number generation"
   ]
  },
  {
   "cell_type": "code",
   "execution_count": 3,
   "id": "7307eea8",
   "metadata": {},
   "outputs": [
    {
     "name": "stdout",
     "output_type": "stream",
     "text": [
      " Generating single Random number: 0.7314256872950725\n",
      " \n",
      "Generating list of a Random number with numpy: \n",
      "[0.89583958 0.75025121 0.30967915 0.305292   0.72259752 0.9626228\n",
      " 0.14583477 0.08222148 0.41748344 0.05409212]\n",
      " \n",
      "Generating 2D arary of Random number \n",
      "[[0.15905928 0.96782603 0.96581076 0.15573206 0.95728684]\n",
      " [0.60673854 0.49176789 0.23408041 0.80555103 0.55327155]\n",
      " [0.84720909 0.6958748  0.45822263 0.76376646 0.13389758]\n",
      " [0.81339493 0.64355985 0.20264834 0.7801658  0.47416228]\n",
      " [0.48804889 0.69553995 0.66752198 0.44735476 0.15608946]]\n",
      " \n",
      "Generating 2D arary of with choice Random number: \n",
      "[[1 1 1 7 9]\n",
      " [9 8 1 9 8]\n",
      " [7 7 1 1 9]]\n"
     ]
    }
   ],
   "source": [
    "# rand = random.randint(39,100,5)\n",
    "print(f' Generating single Random number: {rnn.rand()}')\n",
    "print(f' \\nGenerating list of a Random number with numpy: \\n{rnn.rand(10)}')\n",
    "print(f' \\nGenerating 2D arary of Random number \\n{rnn.rand(5,5)}')\n",
    "print(f' \\nGenerating 2D arary of with choice Random number: \\n{rnn.choice([7,8,1,9],size=(3,5))}')\n",
    "\n",
    "ran_numpy = rnn.rand(10,5) \n",
    "\n",
    "\n",
    "ran_numpy_int = rnn.randint(13,100)\n",
    "# ran_numpy\n",
    "# ran_numpy_int\n"
   ]
  },
  {
   "cell_type": "markdown",
   "id": "f9ad2db1",
   "metadata": {},
   "source": [
    "---"
   ]
  },
  {
   "cell_type": "markdown",
   "id": "81655bd7",
   "metadata": {},
   "source": [
    "# Bootstraping "
   ]
  },
  {
   "cell_type": "markdown",
   "id": "2ee9ed59",
   "metadata": {},
   "source": [
    "- Bootstraping gives the Best Utilization of limited data.\n",
    "## What is Bootstraping sampling?\n",
    "- It is a method that involves drawing of sample data repeatedly wiht replacement from a data source to estimate a population parameter\n",
    "### When to use ?\n",
    "- When the sample data is fairly small(but not tiny)\n",
    "- When the distribution(dataset) is not clean"
   ]
  },
  {
   "cell_type": "code",
   "execution_count": 4,
   "id": "0af7eb60",
   "metadata": {},
   "outputs": [
    {
     "name": "stdout",
     "output_type": "stream",
     "text": [
      "[333.4, 336.0, 370.4, 489.2, 514.0]\n",
      "504.708\n"
     ]
    }
   ],
   "source": [
    "x = rnn.randint(0,1000,500)\n",
    "\n",
    "sample_mean=[]\n",
    "x_mean=[]\n",
    "\n",
    "# Bootstrap sampling\n",
    "for i in range(5):\n",
    "    y = random.sample(x.tolist(),5)\n",
    "    avg = np.mean(y)\n",
    "    \n",
    "    sample_mean.append(avg)\n",
    "    \n",
    "print(sample_mean)\n",
    "print(np.mean(x))"
   ]
  },
  {
   "cell_type": "markdown",
   "id": "947f25c5",
   "metadata": {},
   "source": [
    "---"
   ]
  },
  {
   "cell_type": "markdown",
   "id": "84781f1c",
   "metadata": {},
   "source": [
    "# Covarience \n"
   ]
  },
  {
   "cell_type": "markdown",
   "id": "480220b4",
   "metadata": {},
   "source": [
    "### What is Covarience \n",
    "- Covariance is a measure of the relationship between two random variables and to what extent, they change together.\n",
    "- it refers to the measure of the directional relationship between two random variables.\n",
    "\n",
    "### What it tells?\n",
    "- Covariance indicates the relationship of two variables whenever one variable changes. If an increase in one variable results in an increase in the other variable, both variables are said to have a positive covariance. Decreases in one variable also cause a decrease in the other.\n",
    "\n",
    "### Covariance Vs Correlation\n",
    "- Both used in statistics and regression analysis.\n",
    "- Covariance shows you how the two variables differ, whereas correlation shows you how the two variables are related."
   ]
  },
  {
   "cell_type": "code",
   "execution_count": 5,
   "id": "375de436",
   "metadata": {},
   "outputs": [],
   "source": [
    "# Generating random dataset for Covarience\n",
    "a = rnn.randint(0,100,40)\n",
    "b = rnn.randint(0,100,40)"
   ]
  },
  {
   "cell_type": "code",
   "execution_count": 6,
   "id": "c54d3b99",
   "metadata": {},
   "outputs": [
    {
     "name": "stdout",
     "output_type": "stream",
     "text": [
      " Calculating manually -8.46923076923075\n",
      "\n",
      "With pandas: \n",
      "            col1        col2\n",
      "col1  794.558333   -8.469231\n",
      "col2   -8.469231  669.169231\n",
      "\n",
      "With numpy -8.46923076923078\n"
     ]
    }
   ],
   "source": [
    "a_mean = np.mean(a)\n",
    "b_mean = np.mean(b)\n",
    "sum =0\n",
    "for i in range(0, len(a)):\n",
    "    sum += ((a[i] - a_mean) * (b[i] - b_mean))\n",
    "\n",
    "print(f' Calculating manually {sum/(len(a)-1)}')\n",
    "\n",
    "# To verify \n",
    "\n",
    "data = {'col1':a,'col2':b}\n",
    "df = pd.DataFrame(data)\n",
    "print(f\"\\nWith pandas: \\n{df.cov()}\")\n",
    "\n",
    "\n",
    "print(f\"\\nWith numpy {np.cov(a, b, bias=False)[1][0]}\")"
   ]
  },
  {
   "cell_type": "markdown",
   "id": "6986ef5f",
   "metadata": {},
   "source": [
    "---"
   ]
  },
  {
   "cell_type": "markdown",
   "id": "4c2d1679",
   "metadata": {},
   "source": [
    "# Correlation\n"
   ]
  },
  {
   "cell_type": "markdown",
   "id": "4f0577dc",
   "metadata": {},
   "source": [
    "### What is Correlation\n",
    "- Correlation is a statistical measure that indicates the extent to which two or more variables fluctuate in relation to each other.\n",
    "- A correlation is a statistical measure of the relationship between two variables. \n",
    "- The measure is best used in variables that demonstrate a linear relationship between each other. \n",
    "\n",
    "### Correlation Cofficient \n",
    "- The correlation coefficient is a value that indicates the strength of the relationship between variables. \n",
    "- The coefficient can take any values from -1 to 1. The interpretations of the values are following-\n",
    "> -1 :- variables tend to move in opposite directions (i.e., when one variable increases, the other variable decreases). <br/>\n",
    "> 0 :- The variables do not have a relationship with each other.<br/>\n",
    "> 1 :- variables tend to move in the same direction (i.e., when one variable increases, the other variable also increases).<br/>\n",
    "\n",
    "### Formula\n",
    "![image](https://cdn.corporatefinanceinstitute.com/assets/correlation1.png)\n",
    "<div align='center'><br/>\n",
    "> rxy – the correlation coefficient of the linear relationship between the variables x and y<br/>\n",
    "> xi – the values of the x-variable in a sample<br/>\n",
    "> x̅ – the mean of the values of the x-variable<br/>\n",
    "> yi – the values of the y-variable in a sample<br/>\n",
    "> ȳ – the mean of the values of the y-variable<br/> </div>"
   ]
  },
  {
   "cell_type": "code",
   "execution_count": 29,
   "id": "826ba2b7",
   "metadata": {},
   "outputs": [],
   "source": [
    "# Generating random dataset for Covarience\n",
    "a = rnn.randint(0,100,10)\n",
    "b = rnn.randint(0,100,10)\n",
    "data = {'col1':a,'col2':b}\n",
    "df = pd.DataFrame(data)\n"
   ]
  },
  {
   "cell_type": "code",
   "execution_count": 30,
   "id": "d274ffc0",
   "metadata": {},
   "outputs": [
    {
     "name": "stdout",
     "output_type": "stream",
     "text": [
      "1644.0000000000002, 3978309.54\n",
      "0.8242377999344294\n",
      "          col1      col2\n",
      "col1  1.000000  0.214182\n",
      "col2  0.214182  1.000000\n"
     ]
    }
   ],
   "source": [
    "# print(df)\n",
    "sum_num,sum_dem = 0,0\n",
    "\n",
    "for i,x in enumerate(df['col1']):\n",
    "    y = df['col2'][i]\n",
    "    \n",
    "    sum_num += ((x - np.mean(a))*(y - np.mean(b)))\n",
    "    \n",
    "    sum_dem += (((x - np.mean(a))**2) * (y - np.mean(b))**2)\n",
    "\n",
    "\n",
    "    \n",
    "print(f\"{sum_num}, {sum_dem}\")\n",
    "    \n",
    "cor = sum_num / sum_dem**(0.5)\n",
    "print(cor)\n",
    "print(df.corr().abs())"
   ]
  }
 ],
 "metadata": {
  "kernelspec": {
   "display_name": "Python 3 (ipykernel)",
   "language": "python",
   "name": "python3"
  },
  "language_info": {
   "codemirror_mode": {
    "name": "ipython",
    "version": 3
   },
   "file_extension": ".py",
   "mimetype": "text/x-python",
   "name": "python",
   "nbconvert_exporter": "python",
   "pygments_lexer": "ipython3",
   "version": "3.9.12"
  }
 },
 "nbformat": 4,
 "nbformat_minor": 5
}

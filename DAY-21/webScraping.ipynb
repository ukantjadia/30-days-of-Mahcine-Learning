{
  "nbformat": 4,
  "nbformat_minor": 0,
  "metadata": {
    "colab": {
      "provenance": []
    },
    "kernelspec": {
      "name": "python3",
      "display_name": "Python 3"
    },
    "language_info": {
      "name": "python"
    }
  },
  "cells": [
    {
      "cell_type": "code",
      "execution_count": null,
      "metadata": {
        "id": "RPxLyjW5qiHf"
      },
      "outputs": [],
      "source": [
        "# !pip install bs4\n",
        "# !pip install paser\n",
        "# !pip install reques\n",
        "import requests as re\n",
        "url = re.get('https://www.airlinequality.com/airline-reviews/british-airways')\n",
        "# url = re.get('www.airlinequality.com/airline-reviews/british-airways/page/2/')\n",
        "# (url.json())\n",
        "# url.text\n"
      ]
    },
    {
      "cell_type": "code",
      "source": [
        "# file = open('test.htm','r')\n",
        "test = url.text\n",
        "# file.close()"
      ],
      "metadata": {
        "id": "XUgQZq3Fss9t"
      },
      "execution_count": null,
      "outputs": []
    },
    {
      "cell_type": "code",
      "source": [
        "from bs4 import BeautifulSoup \n",
        "# print(BeautifulSoup('<b class=\"boldest\">Extremely bold</b>',\"lxml\"))\n",
        "# tag = soup.b\n",
        "# soup = BeautifulSoup(test, \"html5lib\")\n",
        "# div = soup.find_all(\"span\", attrs={'itemprop':'ratingValue'})\n",
        "# div\n",
        "# for span in div:\n",
        "#   print(span.get_text())\n",
        "  # print(span.attrs['itemprop']??) \n",
        "  # print(span)\n",
        "import re\n",
        "arti = soup.find('article')\n",
        "cls = re.compile(r\"-.*0\", re.IGNORECASE)\n",
        "\n",
        "\n",
        "first_rat = arti.find('span',itemprop='ratingValue').text\n",
        "first_comm = arti.find('h2',class_='text_header').text\n",
        "first_author = arti.find('span',itemprop='name').text\n",
        "first_loc = arti.find('span',itemprop='author').text\n",
        "# date = arti.find('time',itermprop='datePublished')\n",
        "verifi = arti.find('div',class_='text_content').a.text\n",
        "text1 = re.compile(r\"\\|*\", re.IGNORECASE)\n",
        "rev_text = arti.find('div',class_='text_content').text\n",
        "rev_text = rev_text.split('|')[1]\n",
        "aircraft = arti.find('table',class_='review-ratings').text\n",
        "print(aircraft)"
      ],
      "metadata": {
        "id": "GHmKCnP6tFPV",
        "colab": {
          "base_uri": "https://localhost:8080/"
        },
        "outputId": "3126c239-b46b-417a-9c0d-a3fd7f3007b8"
      },
      "execution_count": 69,
      "outputs": [
        {
          "output_type": "stream",
          "name": "stdout",
          "text": [
            "\n",
            "                            Type Of TravellerFamily Leisure\n",
            "                            Seat TypeEconomy Class\n",
            "                            RouteLondon to Madrid\n",
            "                            Date FlownFebruary 2023\n",
            "                            \n",
            "                                Seat Comfort\n",
            "                                12345\n",
            "                            \n",
            "                            \n",
            "                                Cabin Staff Service\n",
            "                                12345\n",
            "                            \n",
            "                            \n",
            "                                Food & Beverages\n",
            "                                12345\n",
            "                            \n",
            "                            \n",
            "                                Ground Service\n",
            "                                12345\n",
            "                            \n",
            "                            \n",
            "                                Value For Money\n",
            "                                12345\n",
            "                            \n",
            "                            Recommendedyes        \n"
          ]
        }
      ]
    },
    {
      "cell_type": "code",
      "source": [
        "# soup1 = BeautifulSoup(test,\"html5lib\")\n",
        "seat = soup.find('td') "
      ],
      "metadata": {
        "id": "ub-Nmn2loM-Q"
      },
      "execution_count": null,
      "outputs": []
    },
    {
      "cell_type": "code",
      "source": [
        "strip??"
      ],
      "metadata": {
        "id": "QU4pOUWHqJMW",
        "colab": {
          "base_uri": "https://localhost:8080/"
        },
        "outputId": "c2e66bdb-5a8d-4da7-d2c6-f46011e3de79"
      },
      "execution_count": null,
      "outputs": [
        {
          "output_type": "stream",
          "name": "stdout",
          "text": [
            "Object `strip` not found.\n"
          ]
        }
      ]
    },
    {
      "cell_type": "code",
      "source": [
        "div1 = soup.find('div',{'id':'anchor829596'}))\n",
        "\n",
        "name.append()"
      ],
      "metadata": {
        "id": "AEV8lDoeSPdy",
        "colab": {
          "base_uri": "https://localhost:8080/"
        },
        "outputId": "760a9be7-11da-4adf-862b-5d6feb10a6ab"
      },
      "execution_count": null,
      "outputs": [
        {
          "output_type": "stream",
          "name": "stdout",
          "text": [
            "<div class=\"body\" id=\"anchor829596\">\n",
            "                    <h2 class=\"text_header\">\"the food was poor\"</h2>\n",
            "                    <h3 class=\"text_sub_header userStatusWrapper\">\n",
            "                        <span itemprop=\"author\" itemscope=\"\" itemtype=\"http://schema.org/Person\">\n",
            "                        \n",
            "                        <span itemprop=\"name\">Christopher Neep</span></span> (United Kingdom) <time datetime=\"2023-01-28\" itemprop=\"datePublished\">28th January 2023</time></h3>\n",
            "                    <div class=\"tc_mobile\">\n",
            "                    <div class=\"text_content \" itemprop=\"reviewBody\">✅ <strong><a href=\"https://www.airlinequality.com/verified-reviews/\"><em>Trip Verified</em></a></strong> | Check in agent at LHR was very helpful and friendly as were the in flight crew. Seat was comfortable with good leg room. However, the food was poor - barely better than economy class with a poor quality and limited selection of wine. In flight entertainment selections we’re very limited. Far inferior to what BA used to offer. Overall, this premium economy product was disappointing and very poor value for money.</div>\n",
            "                    <div class=\"review-stats\">\n",
            "                        <table class=\"review-ratings\">\n",
            "                            <tbody><tr><td class=\"review-rating-header aircraft \">Aircraft</td><td class=\"review-value \">Boeing 777-300</td></tr>\n",
            "                            <tr><td class=\"review-rating-header type_of_traveller \">Type Of Traveller</td><td class=\"review-value \">Solo Leisure</td></tr>\n",
            "                            <tr><td class=\"review-rating-header cabin_flown \">Seat Type</td><td class=\"review-value \">Premium Economy</td></tr>\n",
            "                            <tr><td class=\"review-rating-header route \">Route</td><td class=\"review-value \">London to Vancouver</td></tr>\n",
            "                            <tr><td class=\"review-rating-header date_flown \">Date Flown</td><td class=\"review-value \">January 2023</td></tr>\n",
            "                            <tr>\n",
            "                                <td class=\"review-rating-header seat_comfort\">Seat Comfort</td>\n",
            "                                <td class=\"review-rating-stars stars\"><span class=\"star fill\">1</span><span class=\"star fill\">2</span><span class=\"star fill\">3</span><span class=\"star fill\">4</span><span class=\"star\">5</span></td>\n",
            "                            </tr>\n",
            "                            <tr>\n",
            "                                <td class=\"review-rating-header cabin_staff_service\">Cabin Staff Service</td>\n",
            "                                <td class=\"review-rating-stars stars\"><span class=\"star fill\">1</span><span class=\"star fill\">2</span><span class=\"star fill\">3</span><span class=\"star fill\">4</span><span class=\"star\">5</span></td>\n",
            "                            </tr>\n",
            "                            <tr>\n",
            "                                <td class=\"review-rating-header food_and_beverages\">Food &amp; Beverages</td>\n",
            "                                <td class=\"review-rating-stars stars\"><span class=\"star fill\">1</span><span class=\"star\">2</span><span class=\"star\">3</span><span class=\"star\">4</span><span class=\"star\">5</span></td>\n",
            "                            </tr>\n",
            "                            <tr>\n",
            "                                <td class=\"review-rating-header inflight_entertainment\">Inflight Entertainment</td>\n",
            "                                <td class=\"review-rating-stars stars\"><span class=\"star fill\">1</span><span class=\"star\">2</span><span class=\"star\">3</span><span class=\"star\">4</span><span class=\"star\">5</span></td>\n",
            "                            </tr>\n",
            "                            <tr>\n",
            "                                <td class=\"review-rating-header ground_service\">Ground Service</td>\n",
            "                                <td class=\"review-rating-stars stars\"><span class=\"star fill\">1</span><span class=\"star fill\">2</span><span class=\"star fill\">3</span><span class=\"star fill\">4</span><span class=\"star\">5</span></td>\n",
            "                            </tr>\n",
            "                            <tr>\n",
            "                                <td class=\"review-rating-header value_for_money\">Value For Money</td>\n",
            "                                <td class=\"review-rating-stars stars\"><span class=\"star fill\">1</span><span class=\"star\">2</span><span class=\"star\">3</span><span class=\"star\">4</span><span class=\"star\">5</span></td>\n",
            "                            </tr>\n",
            "                            <tr><td class=\"review-rating-header recommended\">Recommended</td><td class=\"review-value rating-no\">no</td></tr>        </tbody></table>\n",
            "\n",
            "                    </div>\n",
            "                    </div>\n",
            "                </div>\n"
          ]
        }
      ]
    }
  ]
}
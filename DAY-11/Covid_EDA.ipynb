{
  "nbformat": 4,
  "nbformat_minor": 0,
  "metadata": {
    "colab": {
      "provenance": [],
      "collapsed_sections": [
        "D5PyT6ux9TgN",
        "AEbdwjoFBLVz",
        "oF3LRDlYBoXM"
      ]
    },
    "kernelspec": {
      "name": "python3",
      "display_name": "Python 3"
    },
    "language_info": {
      "name": "python"
    }
  },
  "cells": [
    {
      "cell_type": "markdown",
      "source": [
        "# Covid-19 data analysis(statewise)"
      ],
      "metadata": {
        "id": "uNEgrOc2--B_"
      }
    },
    {
      "cell_type": "markdown",
      "source": [
        "## Workflow Stages\n",
        "1. Question or problem definition.\n",
        "1. Accquire training and testing data.\n",
        "1. Wrangle, prepare, cleanse the data.\n",
        "1. Analyze, identify patterns, and explore the data.\n",
        "1. Model, predict and solve the problem.\n",
        "1. Visualize, report, and present the problem solving steps and final solution.\n",
        "1. Supply or submit the results."
      ],
      "metadata": {
        "id": "QkMlc01n_SLY"
      }
    },
    {
      "cell_type": "markdown",
      "source": [
        "### Question or problem defination\n"
      ],
      "metadata": {
        "id": "D5PyT6ux9TgN"
      }
    },
    {
      "cell_type": "markdown",
      "source": [
        "#### give the estimation of death statewise with all doses and population \n",
        "Estimate the relationship between following \n",
        "- deaths with state,dose1,dose2,dose3,precaution\n",
        "- state with the highest and lowest of  death, \n",
        "active, dose1, dose2, dose3 , precaution, population\n",
        " "
      ],
      "metadata": {
        "id": "g9148BUpA6cu"
      }
    },
    {
      "cell_type": "code",
      "execution_count": 8,
      "metadata": {
        "id": "gepJ5aR68klm"
      },
      "outputs": [],
      "source": [
        "# data analysis and wranglin\n",
        "import pandas as pd\n",
        "import numpy as np\n",
        "\n",
        "# visualization\n",
        "import seaborn as sns\n",
        "import matplotlib.pyplot as plt\n",
        "%matplotlib inline\n",
        "%reload_ext autoreload\n",
        "%autoreload 2\n",
        "\n",
        "# machine learning"
      ]
    },
    {
      "cell_type": "markdown",
      "source": [
        "### Acquire data"
      ],
      "metadata": {
        "id": "AEbdwjoFBLVz"
      }
    },
    {
      "cell_type": "code",
      "source": [
        "covid_URL = \"https://raw.githubusercontent.com/ukantjadia/30-days-of-Mahcine-Learning/Main/DAY-11/covid.csv\"\n",
        "covid = pd.read_csv(covid_URL)\n"
      ],
      "metadata": {
        "id": "NltF3e2Y82Da"
      },
      "execution_count": 12,
      "outputs": []
    },
    {
      "cell_type": "markdown",
      "source": [
        "### Analyze by describing data"
      ],
      "metadata": {
        "id": "oF3LRDlYBoXM"
      }
    },
    {
      "cell_type": "code",
      "source": [
        "# Which features are available in the dataset?\n",
        "print(covid.columns.values)"
      ],
      "metadata": {
        "id": "_hsc9heGBtpv"
      },
      "execution_count": null,
      "outputs": []
    },
    {
      "cell_type": "markdown",
      "source": [
        "Which features are categorical?\n",
        "- Our data is statewise so has no categorical features.so Categorical: None\n",
        "\n",
        "\n",
        "Which feature are numerical?\n",
        "- Continous: confirmed, active, passive, deaths, dose1, dose2, dose3, precaution_dose, total_doses, population"
      ],
      "metadata": {
        "id": "yC5MGPaMCgdt"
      }
    },
    {
      "cell_type": "code",
      "source": [
        "# preview the data\n",
        "covid.head()"
      ],
      "metadata": {
        "id": "1SKSok0PDYoB"
      },
      "execution_count": null,
      "outputs": []
    },
    {
      "cell_type": "markdown",
      "source": [
        "Which features are mixed data types?\n",
        "- There is no feature of mixed data type.\n",
        "Which features may contain error or typos?\n",
        "- State feature may contain error or typos as there are several ways used to describe a name including titles, round brackets, and quotes used for alternative or short names."
      ],
      "metadata": {
        "id": "4SiUVuMQD167"
      }
    },
    {
      "cell_type": "code",
      "source": [
        "covid.tail()"
      ],
      "metadata": {
        "id": "QWSVMo7JExGo"
      },
      "execution_count": null,
      "outputs": []
    },
    {
      "cell_type": "markdown",
      "source": [
        "Which features contain blank, null or empty values?\n",
        "- There is no such feature.\n",
        "\n",
        "What are the data types for various features?\n",
        "- 10 features are integer\n",
        "- 1 feature is string(object)"
      ],
      "metadata": {
        "id": "05I92iMyFA_k"
      }
    },
    {
      "cell_type": "code",
      "source": [
        "covid.info()"
      ],
      "metadata": {
        "id": "aqOD8jUCFosm"
      },
      "execution_count": null,
      "outputs": []
    },
    {
      "cell_type": "markdown",
      "source": [
        "#### ***Assumtions based on the data analysis***\n",
        "following assumptions based on the data analysis done so far.\n",
        "\n",
        "**Correlating**<br>\n",
        "- We want to know how well does each feature correlate with Deaths.\n",
        "\n",
        "**Completing**<br>\n",
        "1. We may want to complete the dose feature as it is definitely correlated with death.\n",
        "1. We may want to complete the active feature as it my also correlate with death.\n",
        "**Correcting**<br>\n",
        "1. state feature is relatively non-standard, may not contribute directly to deaths, so maybe droped.\n",
        "**Creating**<br>\n",
        "1. We may want to create a new feature called real_total_dose based on the dose1, dose2, dose3, precaution_dose to get the total count of all 3 doses.\n",
        "**Classifying**<br>\n",
        "We may also add to our assumptions based on the probelm description noted earlier.\n",
        "1. Population range of state \n",
        "1. total_doses\n",
        "1. active cases in each state"
      ],
      "metadata": {
        "id": "B0-rpJB2Gl11"
      }
    },
    {
      "cell_type": "markdown",
      "source": [
        "### Analyze by pivoting features"
      ],
      "metadata": {
        "id": "LMWYj7CMkP9d"
      }
    },
    {
      "cell_type": "markdown",
      "source": [
        "To confirm some of our observations and assumption, we can analyze our feature correlation by pivoting features against each other."
      ],
      "metadata": {
        "id": "xdEe1314kjck"
      }
    },
    {
      "cell_type": "code",
      "source": [
        "# covid[['state','deaths']].groupby(by=['deaths'].sort_values(by='states',ascending=False))\n",
        "\n",
        "covid.sort_values(by='state',ascending=False)['deaths']"
      ],
      "metadata": {
        "colab": {
          "base_uri": "https://localhost:8080/"
        },
        "id": "uA0vrtYuk6_g",
        "outputId": "88fd35fa-6f26-4944-f263-595ac7d9c5f1"
      },
      "execution_count": 53,
      "outputs": [
        {
          "output_type": "execute_result",
          "data": {
            "text/plain": [
              "35     21532\n",
              "34      7751\n",
              "33     23633\n",
              "32       940\n",
              "31      4111\n",
              "30     38049\n",
              "29       499\n",
              "28      9653\n",
              "27     19289\n",
              "26      1975\n",
              "25      9205\n",
              "24       782\n",
              "23       726\n",
              "22      1624\n",
              "21      2149\n",
              "20    148416\n",
              "19     10776\n",
              "18        52\n",
              "17       231\n",
              "16     71552\n",
              "15     40307\n",
              "14      5331\n",
              "13      4785\n",
              "12      4213\n",
              "11     10714\n",
              "10     11043\n",
              "9       4013\n",
              "8      26521\n",
              "7          4\n",
              "6      14146\n",
              "5       1181\n",
              "4      12302\n",
              "3       8035\n",
              "2        296\n",
              "1      14733\n",
              "0        129\n",
              "Name: deaths, dtype: int64"
            ]
          },
          "metadata": {},
          "execution_count": 53
        }
      ]
    }
  ]
}
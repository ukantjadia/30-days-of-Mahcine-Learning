{
  "nbformat": 4,
  "nbformat_minor": 0,
  "metadata": {
    "colab": {
      "provenance": [],
      "collapsed_sections": [
        "D5PyT6ux9TgN",
        "AEbdwjoFBLVz",
        "oF3LRDlYBoXM"
      ]
    },
    "kernelspec": {
      "name": "python3",
      "display_name": "Python 3"
    },
    "language_info": {
      "name": "python"
    }
  },
  "cells": [
    {
      "cell_type": "markdown",
      "source": [
        "# Covid-19 data analysis(statewise)"
      ],
      "metadata": {
        "id": "uNEgrOc2--B_"
      }
    },
    {
      "cell_type": "markdown",
      "source": [
        "## Workflow Stages\n",
        "1. Question or problem definition.\n",
        "1. Accquire training and testing data.\n",
        "1. Wrangle, prepare, cleanse the data.\n",
        "1. Analyze, identify patterns, and explore the data.\n",
        "1. Model, predict and solve the problem.\n",
        "1. Visualize, report, and present the problem solving steps and final solution.\n",
        "1. Supply or submit the results."
      ],
      "metadata": {
        "id": "QkMlc01n_SLY"
      }
    },
    {
      "cell_type": "markdown",
      "source": [
        "### Question or problem defination\n"
      ],
      "metadata": {
        "id": "D5PyT6ux9TgN"
      }
    },
    {
      "cell_type": "markdown",
      "source": [
        "#### give the estimation of death statewise with all doses and population \n",
        "Estimate the relationship between following \n",
        "- deaths with state,dose1,dose2,dose3,precaution\n",
        "- state with the highest and lowest of  death, \n",
        "active, dose1, dose2, dose3 , precaution, population\n",
        " "
      ],
      "metadata": {
        "id": "g9148BUpA6cu"
      }
    },
    {
      "cell_type": "code",
      "execution_count": null,
      "metadata": {
        "id": "gepJ5aR68klm"
      },
      "outputs": [],
      "source": [
        "# data analysis and wranglin\n",
        "import pandas as pd\n",
        "import numpy as np\n",
        "\n",
        "# visualization\n",
        "import seaborn as sns\n",
        "import matplotlib.pyplot as plt\n",
        "%matplotlib inline\n",
        "%reload_ext autoreload\n",
        "%autoreload 2\n",
        "\n",
        "# machine learning"
      ]
    },
    {
      "cell_type": "markdown",
      "source": [
        "### Acquire data"
      ],
      "metadata": {
        "id": "AEbdwjoFBLVz"
      }
    },
    {
      "cell_type": "code",
      "source": [
        "url = \"https://raw.githubusercontent.com/ukantjadia/30-days-of-Mahcine-Learning/Main/DAY-11/covid.csv\"\n",
        "covid = pd.read_csv(url)"
      ],
      "metadata": {
        "id": "NltF3e2Y82Da"
      },
      "execution_count": null,
      "outputs": []
    },
    {
      "cell_type": "markdown",
      "source": [
        "### Analyze by describing data"
      ],
      "metadata": {
        "id": "oF3LRDlYBoXM"
      }
    },
    {
      "cell_type": "code",
      "source": [
        "# Which features are available in the dataset?\n",
        "print(covid.columns.values)"
      ],
      "metadata": {
        "id": "_hsc9heGBtpv",
        "colab": {
          "base_uri": "https://localhost:8080/"
        },
        "outputId": "fee6be40-c082-4f56-a45c-9e869c2a9fa6"
      },
      "execution_count": null,
      "outputs": [
        {
          "output_type": "stream",
          "name": "stdout",
          "text": [
            "['state' 'confirmed' 'active' 'passive' 'deaths' 'dose1' 'dose2' 'dose3'\n",
            " 'precaution_dose' 'total_doses' 'population']\n"
          ]
        }
      ]
    },
    {
      "cell_type": "markdown",
      "source": [
        "Which features are categorical?\n",
        "- Our data is statewise so has no categorical features.so Categorical: None\n",
        "\n",
        "\n",
        "Which feature are numerical?\n",
        "- Continous: confirmed, active, passive, deaths, dose1, dose2, dose3, precaution_dose, total_doses, population"
      ],
      "metadata": {
        "id": "yC5MGPaMCgdt"
      }
    },
    {
      "cell_type": "code",
      "source": [
        "# preview the data\n",
        "covid.head()"
      ],
      "metadata": {
        "id": "1SKSok0PDYoB",
        "colab": {
          "base_uri": "https://localhost:8080/",
          "height": 339
        },
        "outputId": "2591a2a5-ea59-4d20-d4b3-7e4000e9a225"
      },
      "execution_count": null,
      "outputs": [
        {
          "output_type": "execute_result",
          "data": {
            "text/plain": [
              "                 state  confirmed  active  passive  deaths     dose1  \\\n",
              "0  Andaman and Nicobar      10742       1    10612     129    313284   \n",
              "1       Andhra Pradesh    2339067       3  2324331   14733  40643161   \n",
              "2    Arunachal Pradesh      66890       0    66594     296    860442   \n",
              "3                Assam     746100       0   738065    8035  22549957   \n",
              "4                Bihar     851379      15   839062   12302  62944633   \n",
              "\n",
              "      dose2     dose3  precaution_dose  total_doses  population  \n",
              "0    320383    236936            53427       991263      426251  \n",
              "1  43549055  11703273          6579565    110556756    52883163  \n",
              "2    747177     72403            58618      1911760     1528296  \n",
              "3  20561790   2082670          1259853     50284713    34586234  \n",
              "4  59144387  11983504          3868082    157197041   119461013  "
            ],
            "text/html": [
              "\n",
              "  <div id=\"df-29627fab-27ae-450d-a59e-cafc73e56483\">\n",
              "    <div class=\"colab-df-container\">\n",
              "      <div>\n",
              "<style scoped>\n",
              "    .dataframe tbody tr th:only-of-type {\n",
              "        vertical-align: middle;\n",
              "    }\n",
              "\n",
              "    .dataframe tbody tr th {\n",
              "        vertical-align: top;\n",
              "    }\n",
              "\n",
              "    .dataframe thead th {\n",
              "        text-align: right;\n",
              "    }\n",
              "</style>\n",
              "<table border=\"1\" class=\"dataframe\">\n",
              "  <thead>\n",
              "    <tr style=\"text-align: right;\">\n",
              "      <th></th>\n",
              "      <th>state</th>\n",
              "      <th>confirmed</th>\n",
              "      <th>active</th>\n",
              "      <th>passive</th>\n",
              "      <th>deaths</th>\n",
              "      <th>dose1</th>\n",
              "      <th>dose2</th>\n",
              "      <th>dose3</th>\n",
              "      <th>precaution_dose</th>\n",
              "      <th>total_doses</th>\n",
              "      <th>population</th>\n",
              "    </tr>\n",
              "  </thead>\n",
              "  <tbody>\n",
              "    <tr>\n",
              "      <th>0</th>\n",
              "      <td>Andaman and Nicobar</td>\n",
              "      <td>10742</td>\n",
              "      <td>1</td>\n",
              "      <td>10612</td>\n",
              "      <td>129</td>\n",
              "      <td>313284</td>\n",
              "      <td>320383</td>\n",
              "      <td>236936</td>\n",
              "      <td>53427</td>\n",
              "      <td>991263</td>\n",
              "      <td>426251</td>\n",
              "    </tr>\n",
              "    <tr>\n",
              "      <th>1</th>\n",
              "      <td>Andhra Pradesh</td>\n",
              "      <td>2339067</td>\n",
              "      <td>3</td>\n",
              "      <td>2324331</td>\n",
              "      <td>14733</td>\n",
              "      <td>40643161</td>\n",
              "      <td>43549055</td>\n",
              "      <td>11703273</td>\n",
              "      <td>6579565</td>\n",
              "      <td>110556756</td>\n",
              "      <td>52883163</td>\n",
              "    </tr>\n",
              "    <tr>\n",
              "      <th>2</th>\n",
              "      <td>Arunachal Pradesh</td>\n",
              "      <td>66890</td>\n",
              "      <td>0</td>\n",
              "      <td>66594</td>\n",
              "      <td>296</td>\n",
              "      <td>860442</td>\n",
              "      <td>747177</td>\n",
              "      <td>72403</td>\n",
              "      <td>58618</td>\n",
              "      <td>1911760</td>\n",
              "      <td>1528296</td>\n",
              "    </tr>\n",
              "    <tr>\n",
              "      <th>3</th>\n",
              "      <td>Assam</td>\n",
              "      <td>746100</td>\n",
              "      <td>0</td>\n",
              "      <td>738065</td>\n",
              "      <td>8035</td>\n",
              "      <td>22549957</td>\n",
              "      <td>20561790</td>\n",
              "      <td>2082670</td>\n",
              "      <td>1259853</td>\n",
              "      <td>50284713</td>\n",
              "      <td>34586234</td>\n",
              "    </tr>\n",
              "    <tr>\n",
              "      <th>4</th>\n",
              "      <td>Bihar</td>\n",
              "      <td>851379</td>\n",
              "      <td>15</td>\n",
              "      <td>839062</td>\n",
              "      <td>12302</td>\n",
              "      <td>62944633</td>\n",
              "      <td>59144387</td>\n",
              "      <td>11983504</td>\n",
              "      <td>3868082</td>\n",
              "      <td>157197041</td>\n",
              "      <td>119461013</td>\n",
              "    </tr>\n",
              "  </tbody>\n",
              "</table>\n",
              "</div>\n",
              "      <button class=\"colab-df-convert\" onclick=\"convertToInteractive('df-29627fab-27ae-450d-a59e-cafc73e56483')\"\n",
              "              title=\"Convert this dataframe to an interactive table.\"\n",
              "              style=\"display:none;\">\n",
              "        \n",
              "  <svg xmlns=\"http://www.w3.org/2000/svg\" height=\"24px\"viewBox=\"0 0 24 24\"\n",
              "       width=\"24px\">\n",
              "    <path d=\"M0 0h24v24H0V0z\" fill=\"none\"/>\n",
              "    <path d=\"M18.56 5.44l.94 2.06.94-2.06 2.06-.94-2.06-.94-.94-2.06-.94 2.06-2.06.94zm-11 1L8.5 8.5l.94-2.06 2.06-.94-2.06-.94L8.5 2.5l-.94 2.06-2.06.94zm10 10l.94 2.06.94-2.06 2.06-.94-2.06-.94-.94-2.06-.94 2.06-2.06.94z\"/><path d=\"M17.41 7.96l-1.37-1.37c-.4-.4-.92-.59-1.43-.59-.52 0-1.04.2-1.43.59L10.3 9.45l-7.72 7.72c-.78.78-.78 2.05 0 2.83L4 21.41c.39.39.9.59 1.41.59.51 0 1.02-.2 1.41-.59l7.78-7.78 2.81-2.81c.8-.78.8-2.07 0-2.86zM5.41 20L4 18.59l7.72-7.72 1.47 1.35L5.41 20z\"/>\n",
              "  </svg>\n",
              "      </button>\n",
              "      \n",
              "  <style>\n",
              "    .colab-df-container {\n",
              "      display:flex;\n",
              "      flex-wrap:wrap;\n",
              "      gap: 12px;\n",
              "    }\n",
              "\n",
              "    .colab-df-convert {\n",
              "      background-color: #E8F0FE;\n",
              "      border: none;\n",
              "      border-radius: 50%;\n",
              "      cursor: pointer;\n",
              "      display: none;\n",
              "      fill: #1967D2;\n",
              "      height: 32px;\n",
              "      padding: 0 0 0 0;\n",
              "      width: 32px;\n",
              "    }\n",
              "\n",
              "    .colab-df-convert:hover {\n",
              "      background-color: #E2EBFA;\n",
              "      box-shadow: 0px 1px 2px rgba(60, 64, 67, 0.3), 0px 1px 3px 1px rgba(60, 64, 67, 0.15);\n",
              "      fill: #174EA6;\n",
              "    }\n",
              "\n",
              "    [theme=dark] .colab-df-convert {\n",
              "      background-color: #3B4455;\n",
              "      fill: #D2E3FC;\n",
              "    }\n",
              "\n",
              "    [theme=dark] .colab-df-convert:hover {\n",
              "      background-color: #434B5C;\n",
              "      box-shadow: 0px 1px 3px 1px rgba(0, 0, 0, 0.15);\n",
              "      filter: drop-shadow(0px 1px 2px rgba(0, 0, 0, 0.3));\n",
              "      fill: #FFFFFF;\n",
              "    }\n",
              "  </style>\n",
              "\n",
              "      <script>\n",
              "        const buttonEl =\n",
              "          document.querySelector('#df-29627fab-27ae-450d-a59e-cafc73e56483 button.colab-df-convert');\n",
              "        buttonEl.style.display =\n",
              "          google.colab.kernel.accessAllowed ? 'block' : 'none';\n",
              "\n",
              "        async function convertToInteractive(key) {\n",
              "          const element = document.querySelector('#df-29627fab-27ae-450d-a59e-cafc73e56483');\n",
              "          const dataTable =\n",
              "            await google.colab.kernel.invokeFunction('convertToInteractive',\n",
              "                                                     [key], {});\n",
              "          if (!dataTable) return;\n",
              "\n",
              "          const docLinkHtml = 'Like what you see? Visit the ' +\n",
              "            '<a target=\"_blank\" href=https://colab.research.google.com/notebooks/data_table.ipynb>data table notebook</a>'\n",
              "            + ' to learn more about interactive tables.';\n",
              "          element.innerHTML = '';\n",
              "          dataTable['output_type'] = 'display_data';\n",
              "          await google.colab.output.renderOutput(dataTable, element);\n",
              "          const docLink = document.createElement('div');\n",
              "          docLink.innerHTML = docLinkHtml;\n",
              "          element.appendChild(docLink);\n",
              "        }\n",
              "      </script>\n",
              "    </div>\n",
              "  </div>\n",
              "  "
            ]
          },
          "metadata": {},
          "execution_count": 271
        }
      ]
    },
    {
      "cell_type": "markdown",
      "source": [
        "Which features are mixed data types?\n",
        "- There is no feature of mixed data type.\n",
        "Which features may contain error or typos?\n",
        "- State feature may contain error or typos as there are several ways used to describe a name including titles, round brackets, and quotes used for alternative or short names."
      ],
      "metadata": {
        "id": "4SiUVuMQD167"
      }
    },
    {
      "cell_type": "code",
      "source": [
        "covid.tail()"
      ],
      "metadata": {
        "id": "QWSVMo7JExGo",
        "colab": {
          "base_uri": "https://localhost:8080/",
          "height": 305
        },
        "outputId": "60ddbdf9-ab85-4e3a-c0e1-9489b15bb3fa"
      },
      "execution_count": null,
      "outputs": [
        {
          "output_type": "execute_result",
          "data": {
            "text/plain": [
              "            state  confirmed  active  passive  deaths      dose1      dose2  \\\n",
              "31      Telengana     841324      71   837142    4111   29607672   29053708   \n",
              "32        Tripura     108034       0   107094     940    2658852    2328613   \n",
              "33  Uttar Pradesh    2128103      46  2104424   23633  154058287  147716010   \n",
              "34    Uttarakhand     449379      28   441600    7751    8180312    7940592   \n",
              "35    West Bengal    2118606      58  2097016   21532   67300236   61593452   \n",
              "\n",
              "       dose3  precaution_dose  total_doses  population  \n",
              "31  10525975          2702159     77201709    38472769  \n",
              "32    271434           204733      5916312     4057847  \n",
              "33  35623544          9240735    390639497   228959599  \n",
              "34   1346150           867047     20051714    11090425  \n",
              "35  10257324          5491943    155962840    97694960  "
            ],
            "text/html": [
              "\n",
              "  <div id=\"df-a7bc49d7-3ffd-433f-90a6-d49969fa70d4\">\n",
              "    <div class=\"colab-df-container\">\n",
              "      <div>\n",
              "<style scoped>\n",
              "    .dataframe tbody tr th:only-of-type {\n",
              "        vertical-align: middle;\n",
              "    }\n",
              "\n",
              "    .dataframe tbody tr th {\n",
              "        vertical-align: top;\n",
              "    }\n",
              "\n",
              "    .dataframe thead th {\n",
              "        text-align: right;\n",
              "    }\n",
              "</style>\n",
              "<table border=\"1\" class=\"dataframe\">\n",
              "  <thead>\n",
              "    <tr style=\"text-align: right;\">\n",
              "      <th></th>\n",
              "      <th>state</th>\n",
              "      <th>confirmed</th>\n",
              "      <th>active</th>\n",
              "      <th>passive</th>\n",
              "      <th>deaths</th>\n",
              "      <th>dose1</th>\n",
              "      <th>dose2</th>\n",
              "      <th>dose3</th>\n",
              "      <th>precaution_dose</th>\n",
              "      <th>total_doses</th>\n",
              "      <th>population</th>\n",
              "    </tr>\n",
              "  </thead>\n",
              "  <tbody>\n",
              "    <tr>\n",
              "      <th>31</th>\n",
              "      <td>Telengana</td>\n",
              "      <td>841324</td>\n",
              "      <td>71</td>\n",
              "      <td>837142</td>\n",
              "      <td>4111</td>\n",
              "      <td>29607672</td>\n",
              "      <td>29053708</td>\n",
              "      <td>10525975</td>\n",
              "      <td>2702159</td>\n",
              "      <td>77201709</td>\n",
              "      <td>38472769</td>\n",
              "    </tr>\n",
              "    <tr>\n",
              "      <th>32</th>\n",
              "      <td>Tripura</td>\n",
              "      <td>108034</td>\n",
              "      <td>0</td>\n",
              "      <td>107094</td>\n",
              "      <td>940</td>\n",
              "      <td>2658852</td>\n",
              "      <td>2328613</td>\n",
              "      <td>271434</td>\n",
              "      <td>204733</td>\n",
              "      <td>5916312</td>\n",
              "      <td>4057847</td>\n",
              "    </tr>\n",
              "    <tr>\n",
              "      <th>33</th>\n",
              "      <td>Uttar Pradesh</td>\n",
              "      <td>2128103</td>\n",
              "      <td>46</td>\n",
              "      <td>2104424</td>\n",
              "      <td>23633</td>\n",
              "      <td>154058287</td>\n",
              "      <td>147716010</td>\n",
              "      <td>35623544</td>\n",
              "      <td>9240735</td>\n",
              "      <td>390639497</td>\n",
              "      <td>228959599</td>\n",
              "    </tr>\n",
              "    <tr>\n",
              "      <th>34</th>\n",
              "      <td>Uttarakhand</td>\n",
              "      <td>449379</td>\n",
              "      <td>28</td>\n",
              "      <td>441600</td>\n",
              "      <td>7751</td>\n",
              "      <td>8180312</td>\n",
              "      <td>7940592</td>\n",
              "      <td>1346150</td>\n",
              "      <td>867047</td>\n",
              "      <td>20051714</td>\n",
              "      <td>11090425</td>\n",
              "    </tr>\n",
              "    <tr>\n",
              "      <th>35</th>\n",
              "      <td>West Bengal</td>\n",
              "      <td>2118606</td>\n",
              "      <td>58</td>\n",
              "      <td>2097016</td>\n",
              "      <td>21532</td>\n",
              "      <td>67300236</td>\n",
              "      <td>61593452</td>\n",
              "      <td>10257324</td>\n",
              "      <td>5491943</td>\n",
              "      <td>155962840</td>\n",
              "      <td>97694960</td>\n",
              "    </tr>\n",
              "  </tbody>\n",
              "</table>\n",
              "</div>\n",
              "      <button class=\"colab-df-convert\" onclick=\"convertToInteractive('df-a7bc49d7-3ffd-433f-90a6-d49969fa70d4')\"\n",
              "              title=\"Convert this dataframe to an interactive table.\"\n",
              "              style=\"display:none;\">\n",
              "        \n",
              "  <svg xmlns=\"http://www.w3.org/2000/svg\" height=\"24px\"viewBox=\"0 0 24 24\"\n",
              "       width=\"24px\">\n",
              "    <path d=\"M0 0h24v24H0V0z\" fill=\"none\"/>\n",
              "    <path d=\"M18.56 5.44l.94 2.06.94-2.06 2.06-.94-2.06-.94-.94-2.06-.94 2.06-2.06.94zm-11 1L8.5 8.5l.94-2.06 2.06-.94-2.06-.94L8.5 2.5l-.94 2.06-2.06.94zm10 10l.94 2.06.94-2.06 2.06-.94-2.06-.94-.94-2.06-.94 2.06-2.06.94z\"/><path d=\"M17.41 7.96l-1.37-1.37c-.4-.4-.92-.59-1.43-.59-.52 0-1.04.2-1.43.59L10.3 9.45l-7.72 7.72c-.78.78-.78 2.05 0 2.83L4 21.41c.39.39.9.59 1.41.59.51 0 1.02-.2 1.41-.59l7.78-7.78 2.81-2.81c.8-.78.8-2.07 0-2.86zM5.41 20L4 18.59l7.72-7.72 1.47 1.35L5.41 20z\"/>\n",
              "  </svg>\n",
              "      </button>\n",
              "      \n",
              "  <style>\n",
              "    .colab-df-container {\n",
              "      display:flex;\n",
              "      flex-wrap:wrap;\n",
              "      gap: 12px;\n",
              "    }\n",
              "\n",
              "    .colab-df-convert {\n",
              "      background-color: #E8F0FE;\n",
              "      border: none;\n",
              "      border-radius: 50%;\n",
              "      cursor: pointer;\n",
              "      display: none;\n",
              "      fill: #1967D2;\n",
              "      height: 32px;\n",
              "      padding: 0 0 0 0;\n",
              "      width: 32px;\n",
              "    }\n",
              "\n",
              "    .colab-df-convert:hover {\n",
              "      background-color: #E2EBFA;\n",
              "      box-shadow: 0px 1px 2px rgba(60, 64, 67, 0.3), 0px 1px 3px 1px rgba(60, 64, 67, 0.15);\n",
              "      fill: #174EA6;\n",
              "    }\n",
              "\n",
              "    [theme=dark] .colab-df-convert {\n",
              "      background-color: #3B4455;\n",
              "      fill: #D2E3FC;\n",
              "    }\n",
              "\n",
              "    [theme=dark] .colab-df-convert:hover {\n",
              "      background-color: #434B5C;\n",
              "      box-shadow: 0px 1px 3px 1px rgba(0, 0, 0, 0.15);\n",
              "      filter: drop-shadow(0px 1px 2px rgba(0, 0, 0, 0.3));\n",
              "      fill: #FFFFFF;\n",
              "    }\n",
              "  </style>\n",
              "\n",
              "      <script>\n",
              "        const buttonEl =\n",
              "          document.querySelector('#df-a7bc49d7-3ffd-433f-90a6-d49969fa70d4 button.colab-df-convert');\n",
              "        buttonEl.style.display =\n",
              "          google.colab.kernel.accessAllowed ? 'block' : 'none';\n",
              "\n",
              "        async function convertToInteractive(key) {\n",
              "          const element = document.querySelector('#df-a7bc49d7-3ffd-433f-90a6-d49969fa70d4');\n",
              "          const dataTable =\n",
              "            await google.colab.kernel.invokeFunction('convertToInteractive',\n",
              "                                                     [key], {});\n",
              "          if (!dataTable) return;\n",
              "\n",
              "          const docLinkHtml = 'Like what you see? Visit the ' +\n",
              "            '<a target=\"_blank\" href=https://colab.research.google.com/notebooks/data_table.ipynb>data table notebook</a>'\n",
              "            + ' to learn more about interactive tables.';\n",
              "          element.innerHTML = '';\n",
              "          dataTable['output_type'] = 'display_data';\n",
              "          await google.colab.output.renderOutput(dataTable, element);\n",
              "          const docLink = document.createElement('div');\n",
              "          docLink.innerHTML = docLinkHtml;\n",
              "          element.appendChild(docLink);\n",
              "        }\n",
              "      </script>\n",
              "    </div>\n",
              "  </div>\n",
              "  "
            ]
          },
          "metadata": {},
          "execution_count": 272
        }
      ]
    },
    {
      "cell_type": "markdown",
      "source": [
        "Which features contain blank, null or empty values?\n",
        "- There is no such feature.\n",
        "\n",
        "What are the data types for various features?\n",
        "- 10 features are integer\n",
        "- 1 feature is string(object)"
      ],
      "metadata": {
        "id": "05I92iMyFA_k"
      }
    },
    {
      "cell_type": "code",
      "source": [
        "covid.info()"
      ],
      "metadata": {
        "id": "aqOD8jUCFosm",
        "colab": {
          "base_uri": "https://localhost:8080/"
        },
        "outputId": "2d0a65d0-b573-4003-cac9-c7d8d09c2f00"
      },
      "execution_count": null,
      "outputs": [
        {
          "output_type": "stream",
          "name": "stdout",
          "text": [
            "<class 'pandas.core.frame.DataFrame'>\n",
            "RangeIndex: 36 entries, 0 to 35\n",
            "Data columns (total 11 columns):\n",
            " #   Column           Non-Null Count  Dtype \n",
            "---  ------           --------------  ----- \n",
            " 0   state            36 non-null     object\n",
            " 1   confirmed        36 non-null     int64 \n",
            " 2   active           36 non-null     int64 \n",
            " 3   passive          36 non-null     int64 \n",
            " 4   deaths           36 non-null     int64 \n",
            " 5   dose1            36 non-null     int64 \n",
            " 6   dose2            36 non-null     int64 \n",
            " 7   dose3            36 non-null     int64 \n",
            " 8   precaution_dose  36 non-null     int64 \n",
            " 9   total_doses      36 non-null     int64 \n",
            " 10  population       36 non-null     int64 \n",
            "dtypes: int64(10), object(1)\n",
            "memory usage: 3.2+ KB\n"
          ]
        }
      ]
    },
    {
      "cell_type": "markdown",
      "source": [
        "#### ***Assumtions based on the data analysis***\n",
        "following assumptions based on the data analysis done so far.\n",
        "\n",
        "**Correlating**<br>\n",
        "- We want to know how well does each feature correlate with Deaths.\n",
        "\n",
        "**Completing**<br>\n",
        "1. We may want to complete the dose feature as it is definitely correlated with death.\n",
        "1. We may want to complete the active feature as it my also correlate with death.\n",
        "**Correcting**<br>\n",
        "1. state feature is relatively non-standard, may not contribute directly to deaths, so maybe droped.\n",
        "**Creating**<br>\n",
        "1. We may want to create a new feature called real_total_dose based on the dose1, dose2, dose3, precaution_dose to get the total count of all 3 doses.\n",
        "**Classifying**<br>\n",
        "We may also add to our assumptions based on the probelm description noted earlier.\n",
        "1. Population range of state \n",
        "1. total_doses\n",
        "1. active cases in each state"
      ],
      "metadata": {
        "id": "B0-rpJB2Gl11"
      }
    },
    {
      "cell_type": "markdown",
      "source": [
        "### Analyze by pivoting features"
      ],
      "metadata": {
        "id": "LMWYj7CMkP9d"
      }
    },
    {
      "cell_type": "markdown",
      "source": [
        "To confirm some of our observations and assumption, we can analyze our feature correlation by pivoting features against each other."
      ],
      "metadata": {
        "id": "xdEe1314kjck"
      }
    },
    {
      "cell_type": "code",
      "source": [
        "# relationship between death and state\n",
        "data = pd.DataFrame()\n",
        "data['deaths'] = covid.sort_values('deaths',ascending=False).deaths.values[:10]\n",
        "data['state'] = covid.sort_values('deaths',ascending=False).state.values[:10]"
      ],
      "metadata": {
        "id": "uA0vrtYuk6_g"
      },
      "execution_count": null,
      "outputs": []
    },
    {
      "cell_type": "code",
      "source": [
        "# relationship between death and population \n",
        "population = pd.DataFrame()\n",
        "population['population'] = covid.sort_values('population',ascending=False).population.values[:10]\n",
        "population['state'] = covid.sort_values('population',ascending=False).state.values[:10]\n",
        "# population.head(10)"
      ],
      "metadata": {
        "id": "zjiWUVTcgewa"
      },
      "execution_count": null,
      "outputs": []
    },
    {
      "cell_type": "code",
      "source": [
        "cases = pd.DataFrame()\n",
        "cases['state'] = covid.sort_values(by='confirmed',ascending=False).state.values[:10]\n",
        "cases['case1'] = covid.sort_values(by='confirmed',ascending=False).confirmed.values[:10]"
      ],
      "metadata": {
        "id": "vOuXsusu0k0G"
      },
      "execution_count": null,
      "outputs": []
    },
    {
      "cell_type": "code",
      "source": [
        "dose = pd.DataFrame()\n",
        "dose['total_dose'] = covid['dose1'] + covid['dose2'] + covid['dose3'] + covid['precaution_dose']\n",
        "covid[['dose1','dose2','dose3','precaution_dose','total_doses','deaths']].corr()"
      ],
      "metadata": {
        "id": "Yp-anoJ0hzVh"
      },
      "execution_count": null,
      "outputs": []
    },
    {
      "cell_type": "markdown",
      "source": [
        "#### Analyze by visualizing data\n",
        "Now we can continue confirming some of our assumptions using visualization for analyzing the data"
      ],
      "metadata": {
        "id": "ol1keaxOKy3N"
      }
    },
    {
      "cell_type": "code",
      "source": [
        "# Top 10 states having the higest population\n",
        "states,values = population['state'],population['population']\n",
        "plt.figure(figsize=(14,8))\n",
        "fig,ax1 = plt.subplots()\n",
        "title={'fontsize':22,'fontweight':55,'horizontalalignment':'center'}\n",
        "plt.title(\"Top States by Population\",fontdict=title,pad=260)\n",
        "ax1.pie(values,labels=states,autopct='%1.1f%%',pctdistance=.7,rotatelabels=40,shadow=True,radius=3,startangle=90)\n",
        "plt.show()"
      ],
      "metadata": {
        "id": "cZnUAmerLF8M"
      },
      "execution_count": null,
      "outputs": []
    },
    {
      "cell_type": "code",
      "source": [
        "# Top 10 states having the confirmed cases\n",
        "case1,state = cases['case1'],cases['state']\n",
        "plt.figure(figsize=(14,8))\n",
        "fig,ax2 = plt.subplots()\n",
        "title={'fontsize':22,'fontweight':55,'horizontalalignment':'center'}\n",
        "plt.title(\"States with Confirmed Cases\",fontdict=title,pad=260)\n",
        "ax2.pie(case1,labels=state,radius=3,autopct='%1.1f%%',pctdistance=.7,rotatelabels=30,startangle=90)\n",
        "plt.show()"
      ],
      "metadata": {
        "id": "qtNyiFVg1nm4"
      },
      "execution_count": null,
      "outputs": []
    },
    {
      "cell_type": "code",
      "source": [
        "# Top 10 states having the higest death count\n",
        "deaths,state=data['deaths'],data['state']\n",
        "plt.figure(figsize=(14,8))\n",
        "fig,ax3 = plt.subplots()\n",
        "title={'fontsize':22,'fontweight':55,'horizontalalignment':'center'}\n",
        "plt.title(\"Maximum Deaths by States\",fontdict=title,pad=260)\n",
        "ax3.pie(deaths,labels=state,radius=3,autopct='%1.1f%%',pctdistance=.5,counterclock=True,rotatelabels=30,startangle=90)\n",
        "plt.show()"
      ],
      "metadata": {
        "id": "IBs4e1x3snhX"
      },
      "execution_count": null,
      "outputs": []
    },
    {
      "cell_type": "code",
      "source": [
        "# Which states have highest and lowest postivity rate?\n",
        "covid['Positivity rate'] = covid['confirmed']*100/covid['population']\n",
        "states_pos_high = covid.sort_values(by='Positivity rate',ascending=False)['state'].values[:5] # \n",
        "states_pos_least = covid.sort_values(by='Positivity rate',ascending=True)['state'].values[:5]\n",
        "\n",
        "high_PR = []\n",
        "low_PR = []\n",
        "for i,a in zip(states_pos_high,states_pos_least):\n",
        "  high_PR.append(covid[covid['state'] == str(i)]['Positivity rate'].values[0])\n",
        "  low_PR.append(covid[covid['state'] == str(a)]['Positivity rate'].values[0])"
      ],
      "metadata": {
        "id": "jtQ8lhUROKft"
      },
      "execution_count": 380,
      "outputs": []
    },
    {
      "cell_type": "code",
      "source": [
        "fig,ax4 = plt.subplots(nrows=1,ncols=2,figsize=(16,6))\n",
        "fig.suptitle(\"State with Highest and lowest Positivity Rate\",fontsize=20)\n",
        "ax4[0].set_title(\"Highest Positivity Rate\")\n",
        "ax4[1].set_title(\"Lowest Positivity Rate\")\n",
        "colr = sns.color_palette('rocket')\n",
        "ax4[0].bar(states_pos_least,low_PR,color=colr)\n",
        "ax4[1].bar(states_pos_high,high_PR,color=colr)\n",
        "plt.show()\n"
      ],
      "metadata": {
        "colab": {
          "base_uri": "https://localhost:8080/",
          "height": 294
        },
        "id": "tw7Mu0T0BhQk",
        "outputId": "ab45efa7-0ccf-4e98-a195-d0bfae5abc4a"
      },
      "execution_count": 381,
      "outputs": [
        {
          "output_type": "display_data",
          "data": {
            "text/plain": [
              "<Figure size 1152x432 with 2 Axes>"
            ],
            "image/png": "[encoded data removed]"
          },
          "metadata": {
            "needs_background": "light"
          }
        }
      ]
    },
    {
      "cell_type": "code",
      "source": [
        "fig.suptitle??"
      ],
      "metadata": {
        "id": "DmpbTjPHIBdi"
      },
      "execution_count": 373,
      "outputs": []
    }
  ]
}
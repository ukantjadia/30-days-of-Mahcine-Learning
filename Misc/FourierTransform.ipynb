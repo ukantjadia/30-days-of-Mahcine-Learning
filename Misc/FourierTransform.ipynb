{
 "cells": [
  {
   "cell_type": "code",
   "execution_count": 4,
   "metadata": {},
   "outputs": [],
   "source": [
    "import matplotlib.pyplot as plt \n",
    "import numpy as np \n",
    "import cv2 \n",
    "%matplotlib inline"
   ]
  },
  {
   "cell_type": "code",
   "execution_count": 5,
   "metadata": {},
   "outputs": [
    {
     "ename": "error",
     "evalue": "OpenCV(4.7.0) D:\\a\\opencv-python\\opencv-python\\opencv\\modules\\imgproc\\src\\color.cpp:182: error: (-215:Assertion failed) !_src.empty() in function 'cv::cvtColor'\n",
     "output_type": "error",
     "traceback": [
      "\u001b[1;31m---------------------------------------------------------------------------\u001b[0m",
      "\u001b[1;31merror\u001b[0m                                     Traceback (most recent call last)",
      "\u001b[1;32me:\\phone_pdf_files\\college_work\\3rd year\\sem-6\\ML-Projects\\30-days-of-Machine-Learning\\Misc\\FourierTransform.ipynb Cell 2\u001b[0m in \u001b[0;36m<cell line: 3>\u001b[1;34m()\u001b[0m\n\u001b[0;32m      <a href='vscode-notebook-cell:/e%3A/phone_pdf_files/college_work/3rd%20year/sem-6/ML-Projects/30-days-of-Machine-Learning/Misc/FourierTransform.ipynb#W1sZmlsZQ%3D%3D?line=0'>1</a>\u001b[0m \u001b[39m# Reading image \u001b[39;00m\n\u001b[0;32m      <a href='vscode-notebook-cell:/e%3A/phone_pdf_files/college_work/3rd%20year/sem-6/ML-Projects/30-days-of-Machine-Learning/Misc/FourierTransform.ipynb#W1sZmlsZQ%3D%3D?line=1'>2</a>\u001b[0m stripes_image \u001b[39m=\u001b[39m cv2\u001b[39m.\u001b[39mimread(\u001b[39m'\u001b[39m\u001b[39mimage 1\u001b[39m\u001b[39m'\u001b[39m)\n\u001b[1;32m----> <a href='vscode-notebook-cell:/e%3A/phone_pdf_files/college_work/3rd%20year/sem-6/ML-Projects/30-days-of-Machine-Learning/Misc/FourierTransform.ipynb#W1sZmlsZQ%3D%3D?line=2'>3</a>\u001b[0m stripes_image \u001b[39m=\u001b[39m cv2\u001b[39m.\u001b[39;49mcvtColor(stripes_image,cv2\u001b[39m.\u001b[39;49mCOLOR_BGR2RGB)\n\u001b[0;32m      <a href='vscode-notebook-cell:/e%3A/phone_pdf_files/college_work/3rd%20year/sem-6/ML-Projects/30-days-of-Machine-Learning/Misc/FourierTransform.ipynb#W1sZmlsZQ%3D%3D?line=5'>6</a>\u001b[0m f,(ax1,ax2) \u001b[39m=\u001b[39m plt\u001b[39m.\u001b[39msubplots(\u001b[39m1\u001b[39m,\u001b[39m2\u001b[39m,figsize\u001b[39m=\u001b[39m(\u001b[39m10\u001b[39m,\u001b[39m5\u001b[39m))\n\u001b[0;32m      <a href='vscode-notebook-cell:/e%3A/phone_pdf_files/college_work/3rd%20year/sem-6/ML-Projects/30-days-of-Machine-Learning/Misc/FourierTransform.ipynb#W1sZmlsZQ%3D%3D?line=6'>7</a>\u001b[0m ax1\u001b[39m.\u001b[39mimshow(stripes_image)\n",
      "\u001b[1;31merror\u001b[0m: OpenCV(4.7.0) D:\\a\\opencv-python\\opencv-python\\opencv\\modules\\imgproc\\src\\color.cpp:182: error: (-215:Assertion failed) !_src.empty() in function 'cv::cvtColor'\n"
     ]
    }
   ],
   "source": [
    "\n",
    "# Reading image \n",
    "stripes_image = cv2.imread('image 1')\n",
    "stripes_image = cv2.cvtColor(stripes_image,cv2.COLOR_BGR2RGB)\n",
    "\n",
    "\n",
    "f,(ax1,ax2) = plt.subplots(1,2,figsize=(10,5))\n",
    "ax1.imshow(stripes_image)\n",
    "plt.show()"
   ]
  }
 ],
 "metadata": {
  "kernelspec": {
   "display_name": "base",
   "language": "python",
   "name": "python3"
  },
  "language_info": {
   "codemirror_mode": {
    "name": "ipython",
    "version": 3
   },
   "file_extension": ".py",
   "mimetype": "text/x-python",
   "name": "python",
   "nbconvert_exporter": "python",
   "pygments_lexer": "ipython3",
   "version": "3.9.12"
  },
  "orig_nbformat": 4
 },
 "nbformat": 4,
 "nbformat_minor": 2
}
